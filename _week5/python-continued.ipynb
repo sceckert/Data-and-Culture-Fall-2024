{
 "cells": [
  {
   "cell_type": "markdown",
   "metadata": {},
   "source": [
    "# Introduction to Pandas: Using Python to explore reprintings of \"The Raven\" & a dataset of your choice"
   ]
  },
  {
   "cell_type": "markdown",
   "metadata": {},
   "source": [
    "[![Open In Colab](https://colab.research.google.com/assets/colab-badge.svg)](https://colab.research.google.com/drive/1yw7Bp8MKK12KtAbqb6KaRwOUu3Xvzbhg?usp=sharing)"
   ]
  },
  {
   "cell_type": "markdown",
   "metadata": {},
   "source": [
    "Last week, we started to build on our introduction to Python by learning how to manipulate, clean, sort and analyze data in ordered lists. We also practiced working with a Python script for counting word frequencies in a text file, that we loaded in from our corpus. \n",
    "\n",
    "Often, though, the dataset that we want to work with, or explore take a slightly different form. We could read in a  SPREADSHEET as a plain text file, but that's not the most useful way to work with this kind of structured data.\n",
    "\n",
    "Today we're going to learn how to use Python to read and explore tabular data. We'll learn some command for analyzing different kinds of values stored in tabular data (numeric and \"string\" data), practice a technique called exploratory data analysis, slice up our dataset into meaningful subsets, make simple data visualizations, and work with missing data.\n",
    "\n",
    "We're going to be working with two datasets today: the dataset of [early reprintings of Edgar Allan Poe's \"The Raven\" (1845)](https://github.com/sceckert/Data-and-Culture-Fall-2024/blob/main/_week5/poe-the-raven-reprintings.csv) (for a refresher on where this data came from, see our [in-class exercise](https://github.com/sceckert/Data-and-Culture-Fall-2024/blob/main/_week5/in-class-exercise.md).\n",
    "\n",
    "\n",
    "We're also going to practice working with**a literary dataset of your choice**!\n",
    "\n",
    "- [1. What is Pandas?](#1.-What-is-Pandas?)\n",
    "    - [Using Pandas to clean tabular data](#Using-Pandas-to-clean-tabular-data)\n",
    "    - [Cheatsheet: Operations we can peform on DataFrames](#Pandas-Cheat-Sheet)\n",
    "    - [Using Pandas to analyze data](#Using-Pandas-to-analyze-data)\n",
    "    - [**Exercise 1**: Finding out more about our dataset](#Exercise-1:-Finding-out-more-about-our-dataset) \n",
    "- [2: Make a simple data visualization](#2:-Make-a-simple-data-visualization) \n",
    "- [**Exercise 2**: Working with your own dataset](#Exercise-3:-Working-with-your-own-dataset)\n"
   ]
  },
  {
   "cell_type": "markdown",
   "metadata": {},
   "source": [
    "## 1. What is Pandas?\n",
    "\n",
    "We had a very quick preview of this last week. **`Pandas`** is a powerful Python library for working with tabular data. \n",
    "\n",
    "- `pandas` will read in tabular data––ie, a spreadsheet in the form of a .CSV, .TSV file. (Remember, CSV is short for comma-separarated values, a format for storing tabular data) This library can also work with data in slightly more complicated formats, like .JSON files.\n",
    "- `pandas` helps you explore, filter, and analyze data.\n",
    "\n",
    "\n",
    "When you read in a file, `pandas` creates a **DataFrame** -- this is a special Python datatype that we can perform perations on. Think of a a dataframe as a souped-up spreadsheet: it stores values in an \"array\" (a term for an arrangement of data in an ordered sequence that makes it easy to retrieve particular values,like all the values for the 5th row of a spreadsheet).\n",
    "\n",
    "\n",
    "![image](../_images/pusheen-computer.jpg)"
   ]
  },
  {
   "cell_type": "markdown",
   "metadata": {},
   "source": [
    "For instance, let's look back at the [Poe \"The Raven\" reprintings dataset from Monday](https://github.com/sceckert/Data-and-Culture-Fall-2024/blob/main/_datasets/literature/poe-the-raven-reprintings.csv). We know that we can download this data in the form of a CSV file. What would we have to do to load in?"
   ]
  },
  {
   "cell_type": "markdown",
   "metadata": {},
   "source": [
    "### Import `pandas`\n",
    "Because `pandas` is an external library of scripts, we're going to have to import it."
   ]
  },
  {
   "cell_type": "code",
   "execution_count": 5,
   "metadata": {},
   "outputs": [],
   "source": [
    "# Import Pandas library, nicknaming it \"pd\"\n",
    "import pandas as pd # Here the \"as pd\" gives it the nickname pd\n",
    "# Set the maximum number of rows to display\n",
    "pd.options.display.max_rows = 100"
   ]
  },
  {
   "cell_type": "markdown",
   "metadata": {},
   "source": [
    "### Read in our CSV (and a note about encodings)\n",
    "Here, we're going to read in a CSV spreadsheet of \"The Raven\" reprintings data using pandas (which we've nicknamed `pd`) and the `.read_csv()` operation and assign it to the variable `raven_reprintings_df` (so we can remind ourselves that this is the our Poe \"The Raven\" reprintings dataframe).\n",
    "\n",
    "Let's try and read in our CSV *without* specifying the encoding and see what happns:"
   ]
  },
  {
   "cell_type": "code",
   "execution_count": 8,
   "metadata": {},
   "outputs": [
    {
     "ename": "UnicodeDecodeError",
     "evalue": "'utf-8' codec can't decode byte 0xd2 in position 1136: invalid continuation byte",
     "output_type": "error",
     "traceback": [
      "\u001b[0;31m---------------------------------------------------------------------------\u001b[0m",
      "\u001b[0;31mUnicodeDecodeError\u001b[0m                        Traceback (most recent call last)",
      "Cell \u001b[0;32mIn[8], line 2\u001b[0m\n\u001b[1;32m      1\u001b[0m \u001b[38;5;66;03m# Let's load in our CSV file as a DataFrame and assign it to a variable called `raven_reprintings_df`\u001b[39;00m\n\u001b[0;32m----> 2\u001b[0m raven_reprintings_df \u001b[38;5;241m=\u001b[39m pd\u001b[38;5;241m.\u001b[39mread_csv(\u001b[38;5;124m'\u001b[39m\u001b[38;5;124m../_datasets/literature/poe-the-raven-reprintings.csv\u001b[39m\u001b[38;5;124m'\u001b[39m, parse_dates\u001b[38;5;241m=\u001b[39m[\u001b[38;5;124m'\u001b[39m\u001b[38;5;124mDate\u001b[39m\u001b[38;5;124m'\u001b[39m])\n",
      "File \u001b[0;32m/opt/anaconda3/lib/python3.12/site-packages/pandas/io/parsers/readers.py:1026\u001b[0m, in \u001b[0;36mread_csv\u001b[0;34m(filepath_or_buffer, sep, delimiter, header, names, index_col, usecols, dtype, engine, converters, true_values, false_values, skipinitialspace, skiprows, skipfooter, nrows, na_values, keep_default_na, na_filter, verbose, skip_blank_lines, parse_dates, infer_datetime_format, keep_date_col, date_parser, date_format, dayfirst, cache_dates, iterator, chunksize, compression, thousands, decimal, lineterminator, quotechar, quoting, doublequote, escapechar, comment, encoding, encoding_errors, dialect, on_bad_lines, delim_whitespace, low_memory, memory_map, float_precision, storage_options, dtype_backend)\u001b[0m\n\u001b[1;32m   1013\u001b[0m kwds_defaults \u001b[38;5;241m=\u001b[39m _refine_defaults_read(\n\u001b[1;32m   1014\u001b[0m     dialect,\n\u001b[1;32m   1015\u001b[0m     delimiter,\n\u001b[0;32m   (...)\u001b[0m\n\u001b[1;32m   1022\u001b[0m     dtype_backend\u001b[38;5;241m=\u001b[39mdtype_backend,\n\u001b[1;32m   1023\u001b[0m )\n\u001b[1;32m   1024\u001b[0m kwds\u001b[38;5;241m.\u001b[39mupdate(kwds_defaults)\n\u001b[0;32m-> 1026\u001b[0m \u001b[38;5;28;01mreturn\u001b[39;00m _read(filepath_or_buffer, kwds)\n",
      "File \u001b[0;32m/opt/anaconda3/lib/python3.12/site-packages/pandas/io/parsers/readers.py:620\u001b[0m, in \u001b[0;36m_read\u001b[0;34m(filepath_or_buffer, kwds)\u001b[0m\n\u001b[1;32m    617\u001b[0m _validate_names(kwds\u001b[38;5;241m.\u001b[39mget(\u001b[38;5;124m\"\u001b[39m\u001b[38;5;124mnames\u001b[39m\u001b[38;5;124m\"\u001b[39m, \u001b[38;5;28;01mNone\u001b[39;00m))\n\u001b[1;32m    619\u001b[0m \u001b[38;5;66;03m# Create the parser.\u001b[39;00m\n\u001b[0;32m--> 620\u001b[0m parser \u001b[38;5;241m=\u001b[39m TextFileReader(filepath_or_buffer, \u001b[38;5;241m*\u001b[39m\u001b[38;5;241m*\u001b[39mkwds)\n\u001b[1;32m    622\u001b[0m \u001b[38;5;28;01mif\u001b[39;00m chunksize \u001b[38;5;129;01mor\u001b[39;00m iterator:\n\u001b[1;32m    623\u001b[0m     \u001b[38;5;28;01mreturn\u001b[39;00m parser\n",
      "File \u001b[0;32m/opt/anaconda3/lib/python3.12/site-packages/pandas/io/parsers/readers.py:1620\u001b[0m, in \u001b[0;36mTextFileReader.__init__\u001b[0;34m(self, f, engine, **kwds)\u001b[0m\n\u001b[1;32m   1617\u001b[0m     \u001b[38;5;28mself\u001b[39m\u001b[38;5;241m.\u001b[39moptions[\u001b[38;5;124m\"\u001b[39m\u001b[38;5;124mhas_index_names\u001b[39m\u001b[38;5;124m\"\u001b[39m] \u001b[38;5;241m=\u001b[39m kwds[\u001b[38;5;124m\"\u001b[39m\u001b[38;5;124mhas_index_names\u001b[39m\u001b[38;5;124m\"\u001b[39m]\n\u001b[1;32m   1619\u001b[0m \u001b[38;5;28mself\u001b[39m\u001b[38;5;241m.\u001b[39mhandles: IOHandles \u001b[38;5;241m|\u001b[39m \u001b[38;5;28;01mNone\u001b[39;00m \u001b[38;5;241m=\u001b[39m \u001b[38;5;28;01mNone\u001b[39;00m\n\u001b[0;32m-> 1620\u001b[0m \u001b[38;5;28mself\u001b[39m\u001b[38;5;241m.\u001b[39m_engine \u001b[38;5;241m=\u001b[39m \u001b[38;5;28mself\u001b[39m\u001b[38;5;241m.\u001b[39m_make_engine(f, \u001b[38;5;28mself\u001b[39m\u001b[38;5;241m.\u001b[39mengine)\n",
      "File \u001b[0;32m/opt/anaconda3/lib/python3.12/site-packages/pandas/io/parsers/readers.py:1898\u001b[0m, in \u001b[0;36mTextFileReader._make_engine\u001b[0;34m(self, f, engine)\u001b[0m\n\u001b[1;32m   1895\u001b[0m     \u001b[38;5;28;01mraise\u001b[39;00m \u001b[38;5;167;01mValueError\u001b[39;00m(msg)\n\u001b[1;32m   1897\u001b[0m \u001b[38;5;28;01mtry\u001b[39;00m:\n\u001b[0;32m-> 1898\u001b[0m     \u001b[38;5;28;01mreturn\u001b[39;00m mapping[engine](f, \u001b[38;5;241m*\u001b[39m\u001b[38;5;241m*\u001b[39m\u001b[38;5;28mself\u001b[39m\u001b[38;5;241m.\u001b[39moptions)\n\u001b[1;32m   1899\u001b[0m \u001b[38;5;28;01mexcept\u001b[39;00m \u001b[38;5;167;01mException\u001b[39;00m:\n\u001b[1;32m   1900\u001b[0m     \u001b[38;5;28;01mif\u001b[39;00m \u001b[38;5;28mself\u001b[39m\u001b[38;5;241m.\u001b[39mhandles \u001b[38;5;129;01mis\u001b[39;00m \u001b[38;5;129;01mnot\u001b[39;00m \u001b[38;5;28;01mNone\u001b[39;00m:\n",
      "File \u001b[0;32m/opt/anaconda3/lib/python3.12/site-packages/pandas/io/parsers/c_parser_wrapper.py:93\u001b[0m, in \u001b[0;36mCParserWrapper.__init__\u001b[0;34m(self, src, **kwds)\u001b[0m\n\u001b[1;32m     90\u001b[0m \u001b[38;5;28;01mif\u001b[39;00m kwds[\u001b[38;5;124m\"\u001b[39m\u001b[38;5;124mdtype_backend\u001b[39m\u001b[38;5;124m\"\u001b[39m] \u001b[38;5;241m==\u001b[39m \u001b[38;5;124m\"\u001b[39m\u001b[38;5;124mpyarrow\u001b[39m\u001b[38;5;124m\"\u001b[39m:\n\u001b[1;32m     91\u001b[0m     \u001b[38;5;66;03m# Fail here loudly instead of in cython after reading\u001b[39;00m\n\u001b[1;32m     92\u001b[0m     import_optional_dependency(\u001b[38;5;124m\"\u001b[39m\u001b[38;5;124mpyarrow\u001b[39m\u001b[38;5;124m\"\u001b[39m)\n\u001b[0;32m---> 93\u001b[0m \u001b[38;5;28mself\u001b[39m\u001b[38;5;241m.\u001b[39m_reader \u001b[38;5;241m=\u001b[39m parsers\u001b[38;5;241m.\u001b[39mTextReader(src, \u001b[38;5;241m*\u001b[39m\u001b[38;5;241m*\u001b[39mkwds)\n\u001b[1;32m     95\u001b[0m \u001b[38;5;28mself\u001b[39m\u001b[38;5;241m.\u001b[39munnamed_cols \u001b[38;5;241m=\u001b[39m \u001b[38;5;28mself\u001b[39m\u001b[38;5;241m.\u001b[39m_reader\u001b[38;5;241m.\u001b[39munnamed_cols\n\u001b[1;32m     97\u001b[0m \u001b[38;5;66;03m# error: Cannot determine type of 'names'\u001b[39;00m\n",
      "File \u001b[0;32mparsers.pyx:574\u001b[0m, in \u001b[0;36mpandas._libs.parsers.TextReader.__cinit__\u001b[0;34m()\u001b[0m\n",
      "File \u001b[0;32mparsers.pyx:663\u001b[0m, in \u001b[0;36mpandas._libs.parsers.TextReader._get_header\u001b[0;34m()\u001b[0m\n",
      "File \u001b[0;32mparsers.pyx:874\u001b[0m, in \u001b[0;36mpandas._libs.parsers.TextReader._tokenize_rows\u001b[0;34m()\u001b[0m\n",
      "File \u001b[0;32mparsers.pyx:891\u001b[0m, in \u001b[0;36mpandas._libs.parsers.TextReader._check_tokenize_status\u001b[0;34m()\u001b[0m\n",
      "File \u001b[0;32mparsers.pyx:2053\u001b[0m, in \u001b[0;36mpandas._libs.parsers.raise_parser_error\u001b[0;34m()\u001b[0m\n",
      "File \u001b[0;32m<frozen codecs>:322\u001b[0m, in \u001b[0;36mdecode\u001b[0;34m(self, input, final)\u001b[0m\n",
      "\u001b[0;31mUnicodeDecodeError\u001b[0m: 'utf-8' codec can't decode byte 0xd2 in position 1136: invalid continuation byte"
     ]
    }
   ],
   "source": [
    "# Let's load in our CSV file as a DataFrame and assign it to a variable called `raven_reprintings_df`\n",
    "raven_reprintings_df = pd.read_csv('../_datasets/literature/poe-the-raven-reprintings.csv', parse_dates=['Date'])"
   ]
  },
  {
   "cell_type": "markdown",
   "metadata": {},
   "source": [
    "What happened? Let's interpret our error: we're getting a `UnicodeDecode error. This is because our data isn't encoded in UTF-8, but in an older encoding format, ISO 8859.\n",
    "\n",
    "Let's try telling `pandas` that this data is not encoded in UTF-8"
   ]
  },
  {
   "cell_type": "code",
   "execution_count": 26,
   "metadata": {},
   "outputs": [],
   "source": [
    "# Let's load in our CSV file as a DataFrame and assign it to a variable called `raven_reprintings_df`\n",
    "# Here, the `encoding=\"ISO-8859-1\"` parameter tells us that our data is not encodedin Unicode (UTF-8), which is the default.\n",
    "raven_reprintings_df = pd.read_csv('../_datasets/literature/poe-the-raven-reprintings.csv', encoding=\"ISO-8859-1\", parse_dates=['Date'])"
   ]
  },
  {
   "cell_type": "markdown",
   "metadata": {},
   "source": [
    "### Display our DataFrame\n",
    "Like other Python variables, we can simply type the name of our DataFrame to get a peek at what it contains"
   ]
  },
  {
   "cell_type": "code",
   "execution_count": 29,
   "metadata": {},
   "outputs": [
    {
     "data": {
      "text/html": [
       "<div>\n",
       "<style scoped>\n",
       "    .dataframe tbody tr th:only-of-type {\n",
       "        vertical-align: middle;\n",
       "    }\n",
       "\n",
       "    .dataframe tbody tr th {\n",
       "        vertical-align: top;\n",
       "    }\n",
       "\n",
       "    .dataframe thead th {\n",
       "        text-align: right;\n",
       "    }\n",
       "</style>\n",
       "<table border=\"1\" class=\"dataframe\">\n",
       "  <thead>\n",
       "    <tr style=\"text-align: right;\">\n",
       "      <th></th>\n",
       "      <th>Work_ID</th>\n",
       "      <th>Date</th>\n",
       "      <th>Date_Uncertainty_Level</th>\n",
       "      <th>Publication_Title</th>\n",
       "      <th>Notes</th>\n",
       "      <th>Source</th>\n",
       "      <th>Type</th>\n",
       "      <th>Location</th>\n",
       "      <th>Links</th>\n",
       "      <th>lat</th>\n",
       "      <th>lon</th>\n",
       "      <th>Coordinates</th>\n",
       "    </tr>\n",
       "  </thead>\n",
       "  <tbody>\n",
       "    <tr>\n",
       "      <th>0</th>\n",
       "      <td>The Raven</td>\n",
       "      <td>1845-01-29</td>\n",
       "      <td>exact</td>\n",
       "      <td>Evening Mirror</td>\n",
       "      <td>[Poe was still employed by the Mirror as a kin...</td>\n",
       "      <td>https://www.eapoe.org/works/info/pp073.htm</td>\n",
       "      <td>Newspaper</td>\n",
       "      <td>New York, NY</td>\n",
       "      <td>NaN</td>\n",
       "      <td>40.712728</td>\n",
       "      <td>-74.006015</td>\n",
       "      <td>40.7127281, -74.0060152</td>\n",
       "    </tr>\n",
       "    <tr>\n",
       "      <th>1</th>\n",
       "      <td>The Raven</td>\n",
       "      <td>1845-02-01</td>\n",
       "      <td>exact</td>\n",
       "      <td>American Review</td>\n",
       "      <td>The American Review was printed under the titl...</td>\n",
       "      <td>https://www.eapoe.org/works/info/pp073.htm</td>\n",
       "      <td>Magazine</td>\n",
       "      <td>New York, NY</td>\n",
       "      <td>NaN</td>\n",
       "      <td>40.712728</td>\n",
       "      <td>-74.006015</td>\n",
       "      <td>40.7127281, -74.0060152</td>\n",
       "    </tr>\n",
       "    <tr>\n",
       "      <th>2</th>\n",
       "      <td>The Raven</td>\n",
       "      <td>1845-02-03</td>\n",
       "      <td>exact</td>\n",
       "      <td>New York Morning News</td>\n",
       "      <td>Â  (Apparently reprinted from the Evening Mirr...</td>\n",
       "      <td>https://www.eapoe.org/works/info/pp073.htm</td>\n",
       "      <td>Newspaper</td>\n",
       "      <td>New York, NY</td>\n",
       "      <td>NaN</td>\n",
       "      <td>40.712728</td>\n",
       "      <td>-74.006015</td>\n",
       "      <td>40.7127281, -74.0060152</td>\n",
       "    </tr>\n",
       "    <tr>\n",
       "      <th>3</th>\n",
       "      <td>The Raven</td>\n",
       "      <td>1845-02-04</td>\n",
       "      <td>exact</td>\n",
       "      <td>New-York Daily Tribune</td>\n",
       "      <td>This printing is noted as ÒFrom the American R...</td>\n",
       "      <td>https://www.eapoe.org/works/info/pp073.htm</td>\n",
       "      <td>Newspaper</td>\n",
       "      <td>New York, NY</td>\n",
       "      <td>https://chroniclingamerica.loc.gov/lccn/sn8303...</td>\n",
       "      <td>40.712728</td>\n",
       "      <td>-74.006015</td>\n",
       "      <td>40.7127281, -74.0060152</td>\n",
       "    </tr>\n",
       "    <tr>\n",
       "      <th>4</th>\n",
       "      <td>The Raven</td>\n",
       "      <td>1845-02-04</td>\n",
       "      <td>exact</td>\n",
       "      <td>Pittsburgh Daily Post</td>\n",
       "      <td>(Pittsburgh, PA), vol. III, no. 127, p. 1, col...</td>\n",
       "      <td>https://www.eapoe.org/works/info/pp073.htm</td>\n",
       "      <td>Newspaper</td>\n",
       "      <td>Pittsburgh, PA</td>\n",
       "      <td>NaN</td>\n",
       "      <td>40.441694</td>\n",
       "      <td>-79.990086</td>\n",
       "      <td>40.4416941, -79.9900861</td>\n",
       "    </tr>\n",
       "    <tr>\n",
       "      <th>...</th>\n",
       "      <td>...</td>\n",
       "      <td>...</td>\n",
       "      <td>...</td>\n",
       "      <td>...</td>\n",
       "      <td>...</td>\n",
       "      <td>...</td>\n",
       "      <td>...</td>\n",
       "      <td>...</td>\n",
       "      <td>...</td>\n",
       "      <td>...</td>\n",
       "      <td>...</td>\n",
       "      <td>...</td>\n",
       "    </tr>\n",
       "    <tr>\n",
       "      <th>123</th>\n",
       "      <td>The Raven</td>\n",
       "      <td>1884-01-01</td>\n",
       "      <td>approximate to the year</td>\n",
       "      <td>The Raven</td>\n",
       "      <td>, illustrated by W. L. Taylor. New York: E. P....</td>\n",
       "      <td>https://exhibits.library.jhu.edu/exhibits/show...</td>\n",
       "      <td>Book</td>\n",
       "      <td>New York, NY</td>\n",
       "      <td>NaN</td>\n",
       "      <td>40.712728</td>\n",
       "      <td>-74.006015</td>\n",
       "      <td>40.7127281, -74.0060152</td>\n",
       "    </tr>\n",
       "    <tr>\n",
       "      <th>124</th>\n",
       "      <td>The Raven</td>\n",
       "      <td>1884-01-01</td>\n",
       "      <td>approximate to the year</td>\n",
       "      <td>The Raven</td>\n",
       "      <td>llustrated by Gustave Dore. New York: Harper &amp;...</td>\n",
       "      <td>https://exhibits.library.jhu.edu/exhibits/show...</td>\n",
       "      <td>Book</td>\n",
       "      <td>New York, NY</td>\n",
       "      <td>NaN</td>\n",
       "      <td>40.712728</td>\n",
       "      <td>-74.006015</td>\n",
       "      <td>40.7127281, -74.0060152</td>\n",
       "    </tr>\n",
       "    <tr>\n",
       "      <th>125</th>\n",
       "      <td>The Raven</td>\n",
       "      <td>1890-01-01</td>\n",
       "      <td>approximate to the year</td>\n",
       "      <td>Fort Worth Daily Gazette</td>\n",
       "      <td>NaN</td>\n",
       "      <td>https://www.eapoe.org/works/info/pp073.htm</td>\n",
       "      <td>Newspaper</td>\n",
       "      <td>Fort Worth, TX</td>\n",
       "      <td>https://chroniclingamerica.loc.gov/lccn/sn8606...</td>\n",
       "      <td>33.035748</td>\n",
       "      <td>-97.324625</td>\n",
       "      <td>33.0357485, -97.3246250376905</td>\n",
       "    </tr>\n",
       "    <tr>\n",
       "      <th>126</th>\n",
       "      <td>The Raven</td>\n",
       "      <td>1895-01-01</td>\n",
       "      <td>approximate to the year</td>\n",
       "      <td>The Works of Edgar Allan Poe, vol. 10: Poems</td>\n",
       "      <td>, ed. E. C. Stedman and G. E. Woodberry (Chica...</td>\n",
       "      <td>https://www.eapoe.org/works/info/pp073.htm</td>\n",
       "      <td>Book</td>\n",
       "      <td>Chicago, IL</td>\n",
       "      <td>NaN</td>\n",
       "      <td>41.881832</td>\n",
       "      <td>-87.623177</td>\n",
       "      <td>\\t41.881832, -87.623177</td>\n",
       "    </tr>\n",
       "    <tr>\n",
       "      <th>127</th>\n",
       "      <td>The Raven</td>\n",
       "      <td>1897-01-01</td>\n",
       "      <td>approximate to the year</td>\n",
       "      <td>The Raven, The Fall of the House of Usher and ...</td>\n",
       "      <td>ed. William P. Trent (Boston: Houghton Miffli...</td>\n",
       "      <td>https://www.eapoe.org/works/info/pp073.htm</td>\n",
       "      <td>Book</td>\n",
       "      <td>Boston, MA</td>\n",
       "      <td>NaN</td>\n",
       "      <td>42.355433</td>\n",
       "      <td>-71.060511</td>\n",
       "      <td>42.3554334, -71.060511</td>\n",
       "    </tr>\n",
       "  </tbody>\n",
       "</table>\n",
       "<p>128 rows × 12 columns</p>\n",
       "</div>"
      ],
      "text/plain": [
       "       Work_ID       Date   Date_Uncertainty_Level  \\\n",
       "0    The Raven 1845-01-29                    exact   \n",
       "1    The Raven 1845-02-01                    exact   \n",
       "2    The Raven 1845-02-03                    exact   \n",
       "3    The Raven 1845-02-04                    exact   \n",
       "4    The Raven 1845-02-04                    exact   \n",
       "..         ...        ...                      ...   \n",
       "123  The Raven 1884-01-01  approximate to the year   \n",
       "124  The Raven 1884-01-01  approximate to the year   \n",
       "125  The Raven 1890-01-01  approximate to the year   \n",
       "126  The Raven 1895-01-01  approximate to the year   \n",
       "127  The Raven 1897-01-01  approximate to the year   \n",
       "\n",
       "                                     Publication_Title  \\\n",
       "0                                      Evening Mirror    \n",
       "1                                     American Review    \n",
       "2                                New York Morning News   \n",
       "3                               New-York Daily Tribune   \n",
       "4                               Pittsburgh Daily Post    \n",
       "..                                                 ...   \n",
       "123                                          The Raven   \n",
       "124                                          The Raven   \n",
       "125                           Fort Worth Daily Gazette   \n",
       "126       The Works of Edgar Allan Poe, vol. 10: Poems   \n",
       "127  The Raven, The Fall of the House of Usher and ...   \n",
       "\n",
       "                                                 Notes  \\\n",
       "0    [Poe was still employed by the Mirror as a kin...   \n",
       "1    The American Review was printed under the titl...   \n",
       "2    Â  (Apparently reprinted from the Evening Mirr...   \n",
       "3    This printing is noted as ÒFrom the American R...   \n",
       "4    (Pittsburgh, PA), vol. III, no. 127, p. 1, col...   \n",
       "..                                                 ...   \n",
       "123  , illustrated by W. L. Taylor. New York: E. P....   \n",
       "124  llustrated by Gustave Dore. New York: Harper &...   \n",
       "125                                                NaN   \n",
       "126  , ed. E. C. Stedman and G. E. Woodberry (Chica...   \n",
       "127   ed. William P. Trent (Boston: Houghton Miffli...   \n",
       "\n",
       "                                                Source       Type  \\\n",
       "0           https://www.eapoe.org/works/info/pp073.htm  Newspaper   \n",
       "1           https://www.eapoe.org/works/info/pp073.htm   Magazine   \n",
       "2           https://www.eapoe.org/works/info/pp073.htm  Newspaper   \n",
       "3           https://www.eapoe.org/works/info/pp073.htm  Newspaper   \n",
       "4           https://www.eapoe.org/works/info/pp073.htm  Newspaper   \n",
       "..                                                 ...        ...   \n",
       "123  https://exhibits.library.jhu.edu/exhibits/show...       Book   \n",
       "124  https://exhibits.library.jhu.edu/exhibits/show...       Book   \n",
       "125         https://www.eapoe.org/works/info/pp073.htm  Newspaper   \n",
       "126         https://www.eapoe.org/works/info/pp073.htm       Book   \n",
       "127         https://www.eapoe.org/works/info/pp073.htm       Book   \n",
       "\n",
       "           Location                                              Links  \\\n",
       "0      New York, NY                                                NaN   \n",
       "1      New York, NY                                                NaN   \n",
       "2      New York, NY                                                NaN   \n",
       "3      New York, NY  https://chroniclingamerica.loc.gov/lccn/sn8303...   \n",
       "4    Pittsburgh, PA                                                NaN   \n",
       "..              ...                                                ...   \n",
       "123    New York, NY                                                NaN   \n",
       "124    New York, NY                                                NaN   \n",
       "125  Fort Worth, TX  https://chroniclingamerica.loc.gov/lccn/sn8606...   \n",
       "126     Chicago, IL                                                NaN   \n",
       "127      Boston, MA                                                NaN   \n",
       "\n",
       "           lat        lon                    Coordinates  \n",
       "0    40.712728 -74.006015        40.7127281, -74.0060152  \n",
       "1    40.712728 -74.006015        40.7127281, -74.0060152  \n",
       "2    40.712728 -74.006015        40.7127281, -74.0060152  \n",
       "3    40.712728 -74.006015        40.7127281, -74.0060152  \n",
       "4    40.441694 -79.990086        40.4416941, -79.9900861  \n",
       "..         ...        ...                            ...  \n",
       "123  40.712728 -74.006015        40.7127281, -74.0060152  \n",
       "124  40.712728 -74.006015        40.7127281, -74.0060152  \n",
       "125  33.035748 -97.324625  33.0357485, -97.3246250376905  \n",
       "126  41.881832 -87.623177        \\t41.881832, -87.623177  \n",
       "127  42.355433 -71.060511         42.3554334, -71.060511  \n",
       "\n",
       "[128 rows x 12 columns]"
      ]
     },
     "execution_count": 29,
     "metadata": {},
     "output_type": "execute_result"
    }
   ],
   "source": [
    "raven_reprintings_df"
   ]
  },
  {
   "cell_type": "markdown",
   "metadata": {},
   "source": [
    "Display just the first 5 rows:"
   ]
  },
  {
   "cell_type": "code",
   "execution_count": 32,
   "metadata": {},
   "outputs": [
    {
     "data": {
      "text/html": [
       "<div>\n",
       "<style scoped>\n",
       "    .dataframe tbody tr th:only-of-type {\n",
       "        vertical-align: middle;\n",
       "    }\n",
       "\n",
       "    .dataframe tbody tr th {\n",
       "        vertical-align: top;\n",
       "    }\n",
       "\n",
       "    .dataframe thead th {\n",
       "        text-align: right;\n",
       "    }\n",
       "</style>\n",
       "<table border=\"1\" class=\"dataframe\">\n",
       "  <thead>\n",
       "    <tr style=\"text-align: right;\">\n",
       "      <th></th>\n",
       "      <th>Work_ID</th>\n",
       "      <th>Date</th>\n",
       "      <th>Date_Uncertainty_Level</th>\n",
       "      <th>Publication_Title</th>\n",
       "      <th>Notes</th>\n",
       "      <th>Source</th>\n",
       "      <th>Type</th>\n",
       "      <th>Location</th>\n",
       "      <th>Links</th>\n",
       "      <th>lat</th>\n",
       "      <th>lon</th>\n",
       "      <th>Coordinates</th>\n",
       "    </tr>\n",
       "  </thead>\n",
       "  <tbody>\n",
       "    <tr>\n",
       "      <th>0</th>\n",
       "      <td>The Raven</td>\n",
       "      <td>1845-01-29</td>\n",
       "      <td>exact</td>\n",
       "      <td>Evening Mirror</td>\n",
       "      <td>[Poe was still employed by the Mirror as a kin...</td>\n",
       "      <td>https://www.eapoe.org/works/info/pp073.htm</td>\n",
       "      <td>Newspaper</td>\n",
       "      <td>New York, NY</td>\n",
       "      <td>NaN</td>\n",
       "      <td>40.712728</td>\n",
       "      <td>-74.006015</td>\n",
       "      <td>40.7127281, -74.0060152</td>\n",
       "    </tr>\n",
       "    <tr>\n",
       "      <th>1</th>\n",
       "      <td>The Raven</td>\n",
       "      <td>1845-02-01</td>\n",
       "      <td>exact</td>\n",
       "      <td>American Review</td>\n",
       "      <td>The American Review was printed under the titl...</td>\n",
       "      <td>https://www.eapoe.org/works/info/pp073.htm</td>\n",
       "      <td>Magazine</td>\n",
       "      <td>New York, NY</td>\n",
       "      <td>NaN</td>\n",
       "      <td>40.712728</td>\n",
       "      <td>-74.006015</td>\n",
       "      <td>40.7127281, -74.0060152</td>\n",
       "    </tr>\n",
       "    <tr>\n",
       "      <th>2</th>\n",
       "      <td>The Raven</td>\n",
       "      <td>1845-02-03</td>\n",
       "      <td>exact</td>\n",
       "      <td>New York Morning News</td>\n",
       "      <td>Â  (Apparently reprinted from the Evening Mirr...</td>\n",
       "      <td>https://www.eapoe.org/works/info/pp073.htm</td>\n",
       "      <td>Newspaper</td>\n",
       "      <td>New York, NY</td>\n",
       "      <td>NaN</td>\n",
       "      <td>40.712728</td>\n",
       "      <td>-74.006015</td>\n",
       "      <td>40.7127281, -74.0060152</td>\n",
       "    </tr>\n",
       "    <tr>\n",
       "      <th>3</th>\n",
       "      <td>The Raven</td>\n",
       "      <td>1845-02-04</td>\n",
       "      <td>exact</td>\n",
       "      <td>New-York Daily Tribune</td>\n",
       "      <td>This printing is noted as ÒFrom the American R...</td>\n",
       "      <td>https://www.eapoe.org/works/info/pp073.htm</td>\n",
       "      <td>Newspaper</td>\n",
       "      <td>New York, NY</td>\n",
       "      <td>https://chroniclingamerica.loc.gov/lccn/sn8303...</td>\n",
       "      <td>40.712728</td>\n",
       "      <td>-74.006015</td>\n",
       "      <td>40.7127281, -74.0060152</td>\n",
       "    </tr>\n",
       "    <tr>\n",
       "      <th>4</th>\n",
       "      <td>The Raven</td>\n",
       "      <td>1845-02-04</td>\n",
       "      <td>exact</td>\n",
       "      <td>Pittsburgh Daily Post</td>\n",
       "      <td>(Pittsburgh, PA), vol. III, no. 127, p. 1, col...</td>\n",
       "      <td>https://www.eapoe.org/works/info/pp073.htm</td>\n",
       "      <td>Newspaper</td>\n",
       "      <td>Pittsburgh, PA</td>\n",
       "      <td>NaN</td>\n",
       "      <td>40.441694</td>\n",
       "      <td>-79.990086</td>\n",
       "      <td>40.4416941, -79.9900861</td>\n",
       "    </tr>\n",
       "  </tbody>\n",
       "</table>\n",
       "</div>"
      ],
      "text/plain": [
       "     Work_ID       Date Date_Uncertainty_Level        Publication_Title  \\\n",
       "0  The Raven 1845-01-29                  exact          Evening Mirror    \n",
       "1  The Raven 1845-02-01                  exact         American Review    \n",
       "2  The Raven 1845-02-03                  exact    New York Morning News   \n",
       "3  The Raven 1845-02-04                  exact   New-York Daily Tribune   \n",
       "4  The Raven 1845-02-04                  exact   Pittsburgh Daily Post    \n",
       "\n",
       "                                               Notes  \\\n",
       "0  [Poe was still employed by the Mirror as a kin...   \n",
       "1  The American Review was printed under the titl...   \n",
       "2  Â  (Apparently reprinted from the Evening Mirr...   \n",
       "3  This printing is noted as ÒFrom the American R...   \n",
       "4  (Pittsburgh, PA), vol. III, no. 127, p. 1, col...   \n",
       "\n",
       "                                       Source       Type        Location  \\\n",
       "0  https://www.eapoe.org/works/info/pp073.htm  Newspaper    New York, NY   \n",
       "1  https://www.eapoe.org/works/info/pp073.htm   Magazine    New York, NY   \n",
       "2  https://www.eapoe.org/works/info/pp073.htm  Newspaper    New York, NY   \n",
       "3  https://www.eapoe.org/works/info/pp073.htm  Newspaper    New York, NY   \n",
       "4  https://www.eapoe.org/works/info/pp073.htm  Newspaper  Pittsburgh, PA   \n",
       "\n",
       "                                               Links        lat        lon  \\\n",
       "0                                                NaN  40.712728 -74.006015   \n",
       "1                                                NaN  40.712728 -74.006015   \n",
       "2                                                NaN  40.712728 -74.006015   \n",
       "3  https://chroniclingamerica.loc.gov/lccn/sn8303...  40.712728 -74.006015   \n",
       "4                                                NaN  40.441694 -79.990086   \n",
       "\n",
       "               Coordinates  \n",
       "0  40.7127281, -74.0060152  \n",
       "1  40.7127281, -74.0060152  \n",
       "2  40.7127281, -74.0060152  \n",
       "3  40.7127281, -74.0060152  \n",
       "4  40.4416941, -79.9900861  "
      ]
     },
     "execution_count": 32,
     "metadata": {},
     "output_type": "execute_result"
    }
   ],
   "source": [
    "raven_reprintings_df.head(5)"
   ]
  },
  {
   "cell_type": "markdown",
   "metadata": {},
   "source": [
    "## Using Pandas to read and sort tabular data"
   ]
  },
  {
   "cell_type": "markdown",
   "metadata": {},
   "source": [
    "### Calculate summary statistics of the DataFrame\n",
    "We can calculate some statistics on a DataFrame. This is a little like calculating summary statistics in Microsoft Excel or GoogleSheets "
   ]
  },
  {
   "cell_type": "code",
   "execution_count": null,
   "metadata": {},
   "outputs": [],
   "source": [
    "raven_reprintings_df.info()"
   ]
  },
  {
   "cell_type": "code",
   "execution_count": null,
   "metadata": {},
   "outputs": [],
   "source": [
    "# Basic descriptive statistics\n",
    "print(\"Basic information about the shape of our dataset:\")\n",
    "print(f\"The number of columns in our dataset is: {raven_reprintings_df.shape[1]}\")\n",
    "print(f\"The number of rows in our dataset is: {raven_reprintings_df.shape[0]}\")"
   ]
  },
  {
   "cell_type": "code",
   "execution_count": null,
   "metadata": {},
   "outputs": [],
   "source": [
    "# Calculate the maximum value in the \"Date\" column\n",
    "print('The  maximum value in the \"Date\" column:')\n",
    "raven_reprintings_df['Date'].max()"
   ]
  },
  {
   "cell_type": "code",
   "execution_count": null,
   "metadata": {},
   "outputs": [],
   "source": [
    "# Calculate the minimum value in the \"Date\" column\n",
    "print('The  minimum value in the \"Date\" column:')\n",
    "raven_reprintings_df['Date'].min()"
   ]
  },
  {
   "cell_type": "code",
   "execution_count": null,
   "metadata": {},
   "outputs": [],
   "source": [
    "# Calculate the number of unique values in the \"Location\" column\n",
    "print('The number of unique values in the \"Location\" column:')\n",
    "raven_reprintings_df['Location'].nunique()"
   ]
  },
  {
   "cell_type": "markdown",
   "metadata": {},
   "source": [
    "### Select columns\n",
    "To select a column from the DataFrame, we will type the name of the DataFrame followed by square brackets `[]`and a column name in quotations marks."
   ]
  },
  {
   "cell_type": "code",
   "execution_count": 41,
   "metadata": {},
   "outputs": [
    {
     "data": {
      "text/plain": [
       "0        New York, NY\n",
       "1        New York, NY\n",
       "2        New York, NY\n",
       "3        New York, NY\n",
       "4      Pittsburgh, PA\n",
       "            ...      \n",
       "123      New York, NY\n",
       "124      New York, NY\n",
       "125    Fort Worth, TX\n",
       "126       Chicago, IL\n",
       "127        Boston, MA\n",
       "Name: Location, Length: 128, dtype: object"
      ]
     },
     "execution_count": 41,
     "metadata": {},
     "output_type": "execute_result"
    }
   ],
   "source": [
    "# Select only the column labeled \"Location\"\n",
    "raven_reprintings_df['Location']"
   ]
  },
  {
   "cell_type": "markdown",
   "metadata": {},
   "source": [
    "To select multiple columns, we need to treat them like a dataframe, and enclose them in TWO sets of square brackets `[[ ]]`. "
   ]
  },
  {
   "cell_type": "code",
   "execution_count": 44,
   "metadata": {},
   "outputs": [
    {
     "data": {
      "text/html": [
       "<div>\n",
       "<style scoped>\n",
       "    .dataframe tbody tr th:only-of-type {\n",
       "        vertical-align: middle;\n",
       "    }\n",
       "\n",
       "    .dataframe tbody tr th {\n",
       "        vertical-align: top;\n",
       "    }\n",
       "\n",
       "    .dataframe thead th {\n",
       "        text-align: right;\n",
       "    }\n",
       "</style>\n",
       "<table border=\"1\" class=\"dataframe\">\n",
       "  <thead>\n",
       "    <tr style=\"text-align: right;\">\n",
       "      <th></th>\n",
       "      <th>Publication_Title</th>\n",
       "      <th>Type</th>\n",
       "      <th>Location</th>\n",
       "      <th>Date</th>\n",
       "    </tr>\n",
       "  </thead>\n",
       "  <tbody>\n",
       "    <tr>\n",
       "      <th>0</th>\n",
       "      <td>Evening Mirror</td>\n",
       "      <td>Newspaper</td>\n",
       "      <td>New York, NY</td>\n",
       "      <td>1845-01-29</td>\n",
       "    </tr>\n",
       "    <tr>\n",
       "      <th>1</th>\n",
       "      <td>American Review</td>\n",
       "      <td>Magazine</td>\n",
       "      <td>New York, NY</td>\n",
       "      <td>1845-02-01</td>\n",
       "    </tr>\n",
       "    <tr>\n",
       "      <th>2</th>\n",
       "      <td>New York Morning News</td>\n",
       "      <td>Newspaper</td>\n",
       "      <td>New York, NY</td>\n",
       "      <td>1845-02-03</td>\n",
       "    </tr>\n",
       "    <tr>\n",
       "      <th>3</th>\n",
       "      <td>New-York Daily Tribune</td>\n",
       "      <td>Newspaper</td>\n",
       "      <td>New York, NY</td>\n",
       "      <td>1845-02-04</td>\n",
       "    </tr>\n",
       "    <tr>\n",
       "      <th>4</th>\n",
       "      <td>Pittsburgh Daily Post</td>\n",
       "      <td>Newspaper</td>\n",
       "      <td>Pittsburgh, PA</td>\n",
       "      <td>1845-02-04</td>\n",
       "    </tr>\n",
       "    <tr>\n",
       "      <th>...</th>\n",
       "      <td>...</td>\n",
       "      <td>...</td>\n",
       "      <td>...</td>\n",
       "      <td>...</td>\n",
       "    </tr>\n",
       "    <tr>\n",
       "      <th>123</th>\n",
       "      <td>The Raven</td>\n",
       "      <td>Book</td>\n",
       "      <td>New York, NY</td>\n",
       "      <td>1884-01-01</td>\n",
       "    </tr>\n",
       "    <tr>\n",
       "      <th>124</th>\n",
       "      <td>The Raven</td>\n",
       "      <td>Book</td>\n",
       "      <td>New York, NY</td>\n",
       "      <td>1884-01-01</td>\n",
       "    </tr>\n",
       "    <tr>\n",
       "      <th>125</th>\n",
       "      <td>Fort Worth Daily Gazette</td>\n",
       "      <td>Newspaper</td>\n",
       "      <td>Fort Worth, TX</td>\n",
       "      <td>1890-01-01</td>\n",
       "    </tr>\n",
       "    <tr>\n",
       "      <th>126</th>\n",
       "      <td>The Works of Edgar Allan Poe, vol. 10: Poems</td>\n",
       "      <td>Book</td>\n",
       "      <td>Chicago, IL</td>\n",
       "      <td>1895-01-01</td>\n",
       "    </tr>\n",
       "    <tr>\n",
       "      <th>127</th>\n",
       "      <td>The Raven, The Fall of the House of Usher and ...</td>\n",
       "      <td>Book</td>\n",
       "      <td>Boston, MA</td>\n",
       "      <td>1897-01-01</td>\n",
       "    </tr>\n",
       "  </tbody>\n",
       "</table>\n",
       "<p>128 rows × 4 columns</p>\n",
       "</div>"
      ],
      "text/plain": [
       "                                     Publication_Title       Type  \\\n",
       "0                                      Evening Mirror   Newspaper   \n",
       "1                                     American Review    Magazine   \n",
       "2                                New York Morning News  Newspaper   \n",
       "3                               New-York Daily Tribune  Newspaper   \n",
       "4                               Pittsburgh Daily Post   Newspaper   \n",
       "..                                                 ...        ...   \n",
       "123                                          The Raven       Book   \n",
       "124                                          The Raven       Book   \n",
       "125                           Fort Worth Daily Gazette  Newspaper   \n",
       "126       The Works of Edgar Allan Poe, vol. 10: Poems       Book   \n",
       "127  The Raven, The Fall of the House of Usher and ...       Book   \n",
       "\n",
       "           Location       Date  \n",
       "0      New York, NY 1845-01-29  \n",
       "1      New York, NY 1845-02-01  \n",
       "2      New York, NY 1845-02-03  \n",
       "3      New York, NY 1845-02-04  \n",
       "4    Pittsburgh, PA 1845-02-04  \n",
       "..              ...        ...  \n",
       "123    New York, NY 1884-01-01  \n",
       "124    New York, NY 1884-01-01  \n",
       "125  Fort Worth, TX 1890-01-01  \n",
       "126     Chicago, IL 1895-01-01  \n",
       "127      Boston, MA 1897-01-01  \n",
       "\n",
       "[128 rows x 4 columns]"
      ]
     },
     "execution_count": 44,
     "metadata": {},
     "output_type": "execute_result"
    }
   ],
   "source": [
    "raven_reprintings_df[['Publication_Title', 'Type', 'Location', 'Date']]"
   ]
  },
  {
   "cell_type": "markdown",
   "metadata": {},
   "source": [
    "### Count Values\n",
    "To count values, we select a column, and use the `.value_counts()` operator"
   ]
  },
  {
   "cell_type": "code",
   "execution_count": 47,
   "metadata": {},
   "outputs": [
    {
     "data": {
      "text/plain": [
       "Location\n",
       "New York, NY           22\n",
       "Philadelphia, PA        9\n",
       "London, UK              7\n",
       "Boston, MA              6\n",
       "Richmond, VA            6\n",
       "Bloomington, IL         2\n",
       "Charleston, SC          2\n",
       "New Orleans, LA         2\n",
       "Pittsburgh, PA          2\n",
       "Baltimore, MD           2\n",
       "Hartford, CT            2\n",
       "Mobile, AL              2\n",
       "Buffalo, NY             2\n",
       "Alexandria, VA          2\n",
       "Little Rock, AR         2\n",
       "Ogdensburgh, NY         1\n",
       "Shasta, CA              1\n",
       "Lewisburg, PA           1\n",
       "Maryland                1\n",
       "Richmond, IN            1\n",
       "Glasgow, Scotland       1\n",
       "Pomeroy, OH             1\n",
       "Blomfield, PA           1\n",
       "Freeport, IL            1\n",
       "Cincinnati, OH          1\n",
       "Atchison, KS            1\n",
       "Council Bluffs, IA      1\n",
       "New Haven, CT           1\n",
       "Placerville, CA         1\n",
       "Virginia City, MT       1\n",
       "Waynesburg, PA          1\n",
       "Chambersburg, PA        1\n",
       "Weston, WV              1\n",
       "Tunkhannock, PA         1\n",
       "Smyrna, Del             1\n",
       "Bellows Falls, VT       1\n",
       "Edinburgh, Scotland     1\n",
       "Opelika, AL             1\n",
       "Troy, KS                1\n",
       "Hagerstown, MD          1\n",
       "Dublin, Ireland         1\n",
       "Fort Worth, TX          1\n",
       "Vincennes, IN           1\n",
       "Lincolnton, NC          1\n",
       "Schenectady, NY         1\n",
       "Martinsburg, WV         1\n",
       "Salisbury, NC           1\n",
       "Rutland, VT             1\n",
       "London                  1\n",
       "Cadiz, OH               1\n",
       " Indianapolis, IN       1\n",
       "Worcester, MA           1\n",
       "Exeter, N.H.            1\n",
       "Birmingham, UK          1\n",
       "Greenfield, MA          1\n",
       "Cork, Ireland           1\n",
       "Gettysburg, PA          1\n",
       "Raleigh, NC             1\n",
       "Honolulu, HI            1\n",
       "Corning, NY             1\n",
       "Lawrence, MA            1\n",
       "Oquawka, Ill.           1\n",
       "Lynchburg, V            1\n",
       "Brattleboro, VT         1\n",
       "Newark, NJ              1\n",
       "Chillicothe, OH         1\n",
       "Louisville, KY          1\n",
       "Elkton, Md              1\n",
       "Augusta, GA             1\n",
       "Harrisburg, PA          1\n",
       "Mount Vernon, OH        1\n",
       "New York                1\n",
       "Chicago, IL             1\n",
       "Name: count, dtype: int64"
      ]
     },
     "execution_count": 47,
     "metadata": {},
     "output_type": "execute_result"
    }
   ],
   "source": [
    "raven_reprintings_df['Location'].value_counts()"
   ]
  },
  {
   "cell_type": "markdown",
   "metadata": {},
   "source": [
    "To count only the top 15 locations, use brackets to slice:"
   ]
  },
  {
   "cell_type": "code",
   "execution_count": 50,
   "metadata": {},
   "outputs": [
    {
     "data": {
      "text/plain": [
       "Location\n",
       "New York, NY        22\n",
       "Philadelphia, PA     9\n",
       "London, UK           7\n",
       "Boston, MA           6\n",
       "Richmond, VA         6\n",
       "Bloomington, IL      2\n",
       "Charleston, SC       2\n",
       "New Orleans, LA      2\n",
       "Pittsburgh, PA       2\n",
       "Baltimore, MD        2\n",
       "Hartford, CT         2\n",
       "Mobile, AL           2\n",
       "Buffalo, NY          2\n",
       "Alexandria, VA       2\n",
       "Little Rock, AR      2\n",
       "Name: count, dtype: int64"
      ]
     },
     "execution_count": 50,
     "metadata": {},
     "output_type": "execute_result"
    }
   ],
   "source": [
    "raven_reprintings_df['Location'].value_counts()[:15]"
   ]
  },
  {
   "cell_type": "markdown",
   "metadata": {},
   "source": [
    "## Using Pandas to clean tabular data\n",
    "\n",
    "### Rename columns\n",
    "\n",
    "Since so many of you brought this up in your homework, I thought we could try to rename some of the columns in our dataframe so that the variables better reflect the context.\n",
    "To rename columns in a dataframe, we use the `.rename()` method and the `columns=` parameter.\n",
    "\n",
    "Let's rename the \"Location\" column to \"Publication_Location\""
   ]
  },
  {
   "cell_type": "code",
   "execution_count": 53,
   "metadata": {},
   "outputs": [
    {
     "data": {
      "text/html": [
       "<div>\n",
       "<style scoped>\n",
       "    .dataframe tbody tr th:only-of-type {\n",
       "        vertical-align: middle;\n",
       "    }\n",
       "\n",
       "    .dataframe tbody tr th {\n",
       "        vertical-align: top;\n",
       "    }\n",
       "\n",
       "    .dataframe thead th {\n",
       "        text-align: right;\n",
       "    }\n",
       "</style>\n",
       "<table border=\"1\" class=\"dataframe\">\n",
       "  <thead>\n",
       "    <tr style=\"text-align: right;\">\n",
       "      <th></th>\n",
       "      <th>Work_ID</th>\n",
       "      <th>Date</th>\n",
       "      <th>Date_Uncertainty_Level</th>\n",
       "      <th>Publication_Title</th>\n",
       "      <th>Notes</th>\n",
       "      <th>Source</th>\n",
       "      <th>Type</th>\n",
       "      <th>Publication_Location</th>\n",
       "      <th>Links</th>\n",
       "      <th>lat</th>\n",
       "      <th>lon</th>\n",
       "      <th>Coordinates</th>\n",
       "    </tr>\n",
       "  </thead>\n",
       "  <tbody>\n",
       "    <tr>\n",
       "      <th>0</th>\n",
       "      <td>The Raven</td>\n",
       "      <td>1845-01-29</td>\n",
       "      <td>exact</td>\n",
       "      <td>Evening Mirror</td>\n",
       "      <td>[Poe was still employed by the Mirror as a kin...</td>\n",
       "      <td>https://www.eapoe.org/works/info/pp073.htm</td>\n",
       "      <td>Newspaper</td>\n",
       "      <td>New York, NY</td>\n",
       "      <td>NaN</td>\n",
       "      <td>40.712728</td>\n",
       "      <td>-74.006015</td>\n",
       "      <td>40.7127281, -74.0060152</td>\n",
       "    </tr>\n",
       "    <tr>\n",
       "      <th>1</th>\n",
       "      <td>The Raven</td>\n",
       "      <td>1845-02-01</td>\n",
       "      <td>exact</td>\n",
       "      <td>American Review</td>\n",
       "      <td>The American Review was printed under the titl...</td>\n",
       "      <td>https://www.eapoe.org/works/info/pp073.htm</td>\n",
       "      <td>Magazine</td>\n",
       "      <td>New York, NY</td>\n",
       "      <td>NaN</td>\n",
       "      <td>40.712728</td>\n",
       "      <td>-74.006015</td>\n",
       "      <td>40.7127281, -74.0060152</td>\n",
       "    </tr>\n",
       "    <tr>\n",
       "      <th>2</th>\n",
       "      <td>The Raven</td>\n",
       "      <td>1845-02-03</td>\n",
       "      <td>exact</td>\n",
       "      <td>New York Morning News</td>\n",
       "      <td>Â  (Apparently reprinted from the Evening Mirr...</td>\n",
       "      <td>https://www.eapoe.org/works/info/pp073.htm</td>\n",
       "      <td>Newspaper</td>\n",
       "      <td>New York, NY</td>\n",
       "      <td>NaN</td>\n",
       "      <td>40.712728</td>\n",
       "      <td>-74.006015</td>\n",
       "      <td>40.7127281, -74.0060152</td>\n",
       "    </tr>\n",
       "    <tr>\n",
       "      <th>3</th>\n",
       "      <td>The Raven</td>\n",
       "      <td>1845-02-04</td>\n",
       "      <td>exact</td>\n",
       "      <td>New-York Daily Tribune</td>\n",
       "      <td>This printing is noted as ÒFrom the American R...</td>\n",
       "      <td>https://www.eapoe.org/works/info/pp073.htm</td>\n",
       "      <td>Newspaper</td>\n",
       "      <td>New York, NY</td>\n",
       "      <td>https://chroniclingamerica.loc.gov/lccn/sn8303...</td>\n",
       "      <td>40.712728</td>\n",
       "      <td>-74.006015</td>\n",
       "      <td>40.7127281, -74.0060152</td>\n",
       "    </tr>\n",
       "    <tr>\n",
       "      <th>4</th>\n",
       "      <td>The Raven</td>\n",
       "      <td>1845-02-04</td>\n",
       "      <td>exact</td>\n",
       "      <td>Pittsburgh Daily Post</td>\n",
       "      <td>(Pittsburgh, PA), vol. III, no. 127, p. 1, col...</td>\n",
       "      <td>https://www.eapoe.org/works/info/pp073.htm</td>\n",
       "      <td>Newspaper</td>\n",
       "      <td>Pittsburgh, PA</td>\n",
       "      <td>NaN</td>\n",
       "      <td>40.441694</td>\n",
       "      <td>-79.990086</td>\n",
       "      <td>40.4416941, -79.9900861</td>\n",
       "    </tr>\n",
       "    <tr>\n",
       "      <th>...</th>\n",
       "      <td>...</td>\n",
       "      <td>...</td>\n",
       "      <td>...</td>\n",
       "      <td>...</td>\n",
       "      <td>...</td>\n",
       "      <td>...</td>\n",
       "      <td>...</td>\n",
       "      <td>...</td>\n",
       "      <td>...</td>\n",
       "      <td>...</td>\n",
       "      <td>...</td>\n",
       "      <td>...</td>\n",
       "    </tr>\n",
       "    <tr>\n",
       "      <th>123</th>\n",
       "      <td>The Raven</td>\n",
       "      <td>1884-01-01</td>\n",
       "      <td>approximate to the year</td>\n",
       "      <td>The Raven</td>\n",
       "      <td>, illustrated by W. L. Taylor. New York: E. P....</td>\n",
       "      <td>https://exhibits.library.jhu.edu/exhibits/show...</td>\n",
       "      <td>Book</td>\n",
       "      <td>New York, NY</td>\n",
       "      <td>NaN</td>\n",
       "      <td>40.712728</td>\n",
       "      <td>-74.006015</td>\n",
       "      <td>40.7127281, -74.0060152</td>\n",
       "    </tr>\n",
       "    <tr>\n",
       "      <th>124</th>\n",
       "      <td>The Raven</td>\n",
       "      <td>1884-01-01</td>\n",
       "      <td>approximate to the year</td>\n",
       "      <td>The Raven</td>\n",
       "      <td>llustrated by Gustave Dore. New York: Harper &amp;...</td>\n",
       "      <td>https://exhibits.library.jhu.edu/exhibits/show...</td>\n",
       "      <td>Book</td>\n",
       "      <td>New York, NY</td>\n",
       "      <td>NaN</td>\n",
       "      <td>40.712728</td>\n",
       "      <td>-74.006015</td>\n",
       "      <td>40.7127281, -74.0060152</td>\n",
       "    </tr>\n",
       "    <tr>\n",
       "      <th>125</th>\n",
       "      <td>The Raven</td>\n",
       "      <td>1890-01-01</td>\n",
       "      <td>approximate to the year</td>\n",
       "      <td>Fort Worth Daily Gazette</td>\n",
       "      <td>NaN</td>\n",
       "      <td>https://www.eapoe.org/works/info/pp073.htm</td>\n",
       "      <td>Newspaper</td>\n",
       "      <td>Fort Worth, TX</td>\n",
       "      <td>https://chroniclingamerica.loc.gov/lccn/sn8606...</td>\n",
       "      <td>33.035748</td>\n",
       "      <td>-97.324625</td>\n",
       "      <td>33.0357485, -97.3246250376905</td>\n",
       "    </tr>\n",
       "    <tr>\n",
       "      <th>126</th>\n",
       "      <td>The Raven</td>\n",
       "      <td>1895-01-01</td>\n",
       "      <td>approximate to the year</td>\n",
       "      <td>The Works of Edgar Allan Poe, vol. 10: Poems</td>\n",
       "      <td>, ed. E. C. Stedman and G. E. Woodberry (Chica...</td>\n",
       "      <td>https://www.eapoe.org/works/info/pp073.htm</td>\n",
       "      <td>Book</td>\n",
       "      <td>Chicago, IL</td>\n",
       "      <td>NaN</td>\n",
       "      <td>41.881832</td>\n",
       "      <td>-87.623177</td>\n",
       "      <td>\\t41.881832, -87.623177</td>\n",
       "    </tr>\n",
       "    <tr>\n",
       "      <th>127</th>\n",
       "      <td>The Raven</td>\n",
       "      <td>1897-01-01</td>\n",
       "      <td>approximate to the year</td>\n",
       "      <td>The Raven, The Fall of the House of Usher and ...</td>\n",
       "      <td>ed. William P. Trent (Boston: Houghton Miffli...</td>\n",
       "      <td>https://www.eapoe.org/works/info/pp073.htm</td>\n",
       "      <td>Book</td>\n",
       "      <td>Boston, MA</td>\n",
       "      <td>NaN</td>\n",
       "      <td>42.355433</td>\n",
       "      <td>-71.060511</td>\n",
       "      <td>42.3554334, -71.060511</td>\n",
       "    </tr>\n",
       "  </tbody>\n",
       "</table>\n",
       "<p>128 rows × 12 columns</p>\n",
       "</div>"
      ],
      "text/plain": [
       "       Work_ID       Date   Date_Uncertainty_Level  \\\n",
       "0    The Raven 1845-01-29                    exact   \n",
       "1    The Raven 1845-02-01                    exact   \n",
       "2    The Raven 1845-02-03                    exact   \n",
       "3    The Raven 1845-02-04                    exact   \n",
       "4    The Raven 1845-02-04                    exact   \n",
       "..         ...        ...                      ...   \n",
       "123  The Raven 1884-01-01  approximate to the year   \n",
       "124  The Raven 1884-01-01  approximate to the year   \n",
       "125  The Raven 1890-01-01  approximate to the year   \n",
       "126  The Raven 1895-01-01  approximate to the year   \n",
       "127  The Raven 1897-01-01  approximate to the year   \n",
       "\n",
       "                                     Publication_Title  \\\n",
       "0                                      Evening Mirror    \n",
       "1                                     American Review    \n",
       "2                                New York Morning News   \n",
       "3                               New-York Daily Tribune   \n",
       "4                               Pittsburgh Daily Post    \n",
       "..                                                 ...   \n",
       "123                                          The Raven   \n",
       "124                                          The Raven   \n",
       "125                           Fort Worth Daily Gazette   \n",
       "126       The Works of Edgar Allan Poe, vol. 10: Poems   \n",
       "127  The Raven, The Fall of the House of Usher and ...   \n",
       "\n",
       "                                                 Notes  \\\n",
       "0    [Poe was still employed by the Mirror as a kin...   \n",
       "1    The American Review was printed under the titl...   \n",
       "2    Â  (Apparently reprinted from the Evening Mirr...   \n",
       "3    This printing is noted as ÒFrom the American R...   \n",
       "4    (Pittsburgh, PA), vol. III, no. 127, p. 1, col...   \n",
       "..                                                 ...   \n",
       "123  , illustrated by W. L. Taylor. New York: E. P....   \n",
       "124  llustrated by Gustave Dore. New York: Harper &...   \n",
       "125                                                NaN   \n",
       "126  , ed. E. C. Stedman and G. E. Woodberry (Chica...   \n",
       "127   ed. William P. Trent (Boston: Houghton Miffli...   \n",
       "\n",
       "                                                Source       Type  \\\n",
       "0           https://www.eapoe.org/works/info/pp073.htm  Newspaper   \n",
       "1           https://www.eapoe.org/works/info/pp073.htm   Magazine   \n",
       "2           https://www.eapoe.org/works/info/pp073.htm  Newspaper   \n",
       "3           https://www.eapoe.org/works/info/pp073.htm  Newspaper   \n",
       "4           https://www.eapoe.org/works/info/pp073.htm  Newspaper   \n",
       "..                                                 ...        ...   \n",
       "123  https://exhibits.library.jhu.edu/exhibits/show...       Book   \n",
       "124  https://exhibits.library.jhu.edu/exhibits/show...       Book   \n",
       "125         https://www.eapoe.org/works/info/pp073.htm  Newspaper   \n",
       "126         https://www.eapoe.org/works/info/pp073.htm       Book   \n",
       "127         https://www.eapoe.org/works/info/pp073.htm       Book   \n",
       "\n",
       "    Publication_Location                                              Links  \\\n",
       "0           New York, NY                                                NaN   \n",
       "1           New York, NY                                                NaN   \n",
       "2           New York, NY                                                NaN   \n",
       "3           New York, NY  https://chroniclingamerica.loc.gov/lccn/sn8303...   \n",
       "4         Pittsburgh, PA                                                NaN   \n",
       "..                   ...                                                ...   \n",
       "123         New York, NY                                                NaN   \n",
       "124         New York, NY                                                NaN   \n",
       "125       Fort Worth, TX  https://chroniclingamerica.loc.gov/lccn/sn8606...   \n",
       "126          Chicago, IL                                                NaN   \n",
       "127           Boston, MA                                                NaN   \n",
       "\n",
       "           lat        lon                    Coordinates  \n",
       "0    40.712728 -74.006015        40.7127281, -74.0060152  \n",
       "1    40.712728 -74.006015        40.7127281, -74.0060152  \n",
       "2    40.712728 -74.006015        40.7127281, -74.0060152  \n",
       "3    40.712728 -74.006015        40.7127281, -74.0060152  \n",
       "4    40.441694 -79.990086        40.4416941, -79.9900861  \n",
       "..         ...        ...                            ...  \n",
       "123  40.712728 -74.006015        40.7127281, -74.0060152  \n",
       "124  40.712728 -74.006015        40.7127281, -74.0060152  \n",
       "125  33.035748 -97.324625  33.0357485, -97.3246250376905  \n",
       "126  41.881832 -87.623177        \\t41.881832, -87.623177  \n",
       "127  42.355433 -71.060511         42.3554334, -71.060511  \n",
       "\n",
       "[128 rows x 12 columns]"
      ]
     },
     "execution_count": 53,
     "metadata": {},
     "output_type": "execute_result"
    }
   ],
   "source": [
    "raven_reprintings_df.rename(columns={'Location': 'Publication_Location'})"
   ]
  },
  {
   "cell_type": "markdown",
   "metadata": {},
   "source": [
    "But this only temporarily changes the name of the variable. To permanently change it, we have to re-assign the variable `raven_reprintings_df`, like so:"
   ]
  },
  {
   "cell_type": "code",
   "execution_count": 59,
   "metadata": {},
   "outputs": [],
   "source": [
    "raven_reprintings_df = raven_reprintings_df.rename(columns={'Location': 'Publication_Location'})"
   ]
  },
  {
   "cell_type": "markdown",
   "metadata": {},
   "source": [
    "Now let's take a peek inside:"
   ]
  },
  {
   "cell_type": "code",
   "execution_count": 62,
   "metadata": {},
   "outputs": [
    {
     "data": {
      "text/html": [
       "<div>\n",
       "<style scoped>\n",
       "    .dataframe tbody tr th:only-of-type {\n",
       "        vertical-align: middle;\n",
       "    }\n",
       "\n",
       "    .dataframe tbody tr th {\n",
       "        vertical-align: top;\n",
       "    }\n",
       "\n",
       "    .dataframe thead th {\n",
       "        text-align: right;\n",
       "    }\n",
       "</style>\n",
       "<table border=\"1\" class=\"dataframe\">\n",
       "  <thead>\n",
       "    <tr style=\"text-align: right;\">\n",
       "      <th></th>\n",
       "      <th>Work_ID</th>\n",
       "      <th>Date</th>\n",
       "      <th>Date_Uncertainty_Level</th>\n",
       "      <th>Publication_Title</th>\n",
       "      <th>Notes</th>\n",
       "      <th>Source</th>\n",
       "      <th>Type</th>\n",
       "      <th>Publication_Location</th>\n",
       "      <th>Links</th>\n",
       "      <th>lat</th>\n",
       "      <th>lon</th>\n",
       "      <th>Coordinates</th>\n",
       "    </tr>\n",
       "  </thead>\n",
       "  <tbody>\n",
       "    <tr>\n",
       "      <th>0</th>\n",
       "      <td>The Raven</td>\n",
       "      <td>1845-01-29</td>\n",
       "      <td>exact</td>\n",
       "      <td>Evening Mirror</td>\n",
       "      <td>[Poe was still employed by the Mirror as a kin...</td>\n",
       "      <td>https://www.eapoe.org/works/info/pp073.htm</td>\n",
       "      <td>Newspaper</td>\n",
       "      <td>New York, NY</td>\n",
       "      <td>NaN</td>\n",
       "      <td>40.712728</td>\n",
       "      <td>-74.006015</td>\n",
       "      <td>40.7127281, -74.0060152</td>\n",
       "    </tr>\n",
       "  </tbody>\n",
       "</table>\n",
       "</div>"
      ],
      "text/plain": [
       "     Work_ID       Date Date_Uncertainty_Level Publication_Title  \\\n",
       "0  The Raven 1845-01-29                  exact   Evening Mirror    \n",
       "\n",
       "                                               Notes  \\\n",
       "0  [Poe was still employed by the Mirror as a kin...   \n",
       "\n",
       "                                       Source       Type Publication_Location  \\\n",
       "0  https://www.eapoe.org/works/info/pp073.htm  Newspaper         New York, NY   \n",
       "\n",
       "  Links        lat        lon              Coordinates  \n",
       "0   NaN  40.712728 -74.006015  40.7127281, -74.0060152  "
      ]
     },
     "execution_count": 62,
     "metadata": {},
     "output_type": "execute_result"
    }
   ],
   "source": [
    "raven_reprintings_df.head(1)"
   ]
  },
  {
   "cell_type": "markdown",
   "metadata": {},
   "source": [
    "### Adding a new column based on other column data"
   ]
  },
  {
   "cell_type": "markdown",
   "metadata": {},
   "source": [
    "Notice how our date is formatted to be specific to the date? Not only are some of these dates only approximate to the year, there might be situatations where we want to count not how many times \"The Raven\" is reprinted each day, but each *year*. Luckily our date data is formatted YYYY-MM-DD, which is recognizable to python. We can use the `.dt` command `.dt.year` to extract just the year from that data.\n",
    "\n",
    "Let's create a new column called \"Year\":"
   ]
  },
  {
   "cell_type": "code",
   "execution_count": 66,
   "metadata": {},
   "outputs": [],
   "source": [
    "# Use the `dt` command to extract the year from our YYY-MM-DD style date and create a new column, called \"Year\"\n",
    "raven_reprintings_df['Year'] = raven_reprintings_df['Date'].dt.year"
   ]
  },
  {
   "cell_type": "markdown",
   "metadata": {},
   "source": [
    "Let's confirm that we've added a new column:"
   ]
  },
  {
   "cell_type": "code",
   "execution_count": 69,
   "metadata": {},
   "outputs": [
    {
     "data": {
      "text/html": [
       "<div>\n",
       "<style scoped>\n",
       "    .dataframe tbody tr th:only-of-type {\n",
       "        vertical-align: middle;\n",
       "    }\n",
       "\n",
       "    .dataframe tbody tr th {\n",
       "        vertical-align: top;\n",
       "    }\n",
       "\n",
       "    .dataframe thead th {\n",
       "        text-align: right;\n",
       "    }\n",
       "</style>\n",
       "<table border=\"1\" class=\"dataframe\">\n",
       "  <thead>\n",
       "    <tr style=\"text-align: right;\">\n",
       "      <th></th>\n",
       "      <th>Work_ID</th>\n",
       "      <th>Date</th>\n",
       "      <th>Date_Uncertainty_Level</th>\n",
       "      <th>Publication_Title</th>\n",
       "      <th>Notes</th>\n",
       "      <th>Source</th>\n",
       "      <th>Type</th>\n",
       "      <th>Publication_Location</th>\n",
       "      <th>Links</th>\n",
       "      <th>lat</th>\n",
       "      <th>lon</th>\n",
       "      <th>Coordinates</th>\n",
       "      <th>Year</th>\n",
       "    </tr>\n",
       "  </thead>\n",
       "  <tbody>\n",
       "    <tr>\n",
       "      <th>0</th>\n",
       "      <td>The Raven</td>\n",
       "      <td>1845-01-29</td>\n",
       "      <td>exact</td>\n",
       "      <td>Evening Mirror</td>\n",
       "      <td>[Poe was still employed by the Mirror as a kin...</td>\n",
       "      <td>https://www.eapoe.org/works/info/pp073.htm</td>\n",
       "      <td>Newspaper</td>\n",
       "      <td>New York, NY</td>\n",
       "      <td>NaN</td>\n",
       "      <td>40.712728</td>\n",
       "      <td>-74.006015</td>\n",
       "      <td>40.7127281, -74.0060152</td>\n",
       "      <td>1845</td>\n",
       "    </tr>\n",
       "  </tbody>\n",
       "</table>\n",
       "</div>"
      ],
      "text/plain": [
       "     Work_ID       Date Date_Uncertainty_Level Publication_Title  \\\n",
       "0  The Raven 1845-01-29                  exact   Evening Mirror    \n",
       "\n",
       "                                               Notes  \\\n",
       "0  [Poe was still employed by the Mirror as a kin...   \n",
       "\n",
       "                                       Source       Type Publication_Location  \\\n",
       "0  https://www.eapoe.org/works/info/pp073.htm  Newspaper         New York, NY   \n",
       "\n",
       "  Links        lat        lon              Coordinates  Year  \n",
       "0   NaN  40.712728 -74.006015  40.7127281, -74.0060152  1845  "
      ]
     },
     "execution_count": 69,
     "metadata": {},
     "output_type": "execute_result"
    }
   ],
   "source": [
    "raven_reprintings_df.head(1)"
   ]
  },
  {
   "cell_type": "markdown",
   "metadata": {},
   "source": [
    "### 💡 Pro Tip 💡 \n",
    "> One of the handy things about working with data in `pandas` is that it allows you to manipulate data, replace missing values, add new columns, or drop columns --- all **without** touching the original CSV or text files that you're working with. This can be particularly handy for exploratory research and for making sure that you don't accidentally overwrite your data!"
   ]
  },
  {
   "cell_type": "markdown",
   "metadata": {},
   "source": [
    "### Clean and Transform data values\n",
    "Remember the string methods we learned last week ––how you can use `.str.replace()` or `str.lower()` to transform values in a string of text? Well, the same methods can be applied to pandas DataFrame columns!!"
   ]
  },
  {
   "cell_type": "markdown",
   "metadata": {},
   "source": [
    "So, If we want to replace the \"Date_Uncertainty_Level\" columns’s description ('exact') with \"exact date\", we could use the `.str.replace()` method."
   ]
  },
  {
   "cell_type": "code",
   "execution_count": 74,
   "metadata": {},
   "outputs": [],
   "source": [
    "raven_reprintings_df[\"Date_Uncertainty_Level\"] = raven_reprintings_df[\"Date_Uncertainty_Level\"].str.replace('exact', 'exact date')"
   ]
  },
  {
   "cell_type": "markdown",
   "metadata": {},
   "source": [
    "---"
   ]
  },
  {
   "cell_type": "markdown",
   "metadata": {},
   "source": [
    "## Pandas Cheat Sheet \n",
    "Open up the following [Pandas Cheat Sheet](python-pandas-cheat-sheet.md) in a new window."
   ]
  },
  {
   "cell_type": "code",
   "execution_count": 78,
   "metadata": {},
   "outputs": [
    {
     "data": {
      "text/markdown": [
       "## `Pandas` Cheatsheet: Operations we can peform on DataFrames\n",
       "\n",
       "### Using string methods to clean or transform data in columns: \n",
       "\n",
       "![image](../_images/pusheen-yarn.png)\n",
       "\n",
       "| **Pandas String Method** | **Explanation**                                                                                   |\n",
       "|:-------------:|:---------------------------------------------------------------------------------------------------:|\n",
       "| df['column_name']`.str.lower()`         | makes the string in each row lowercase                                                                                |\n",
       "| df['column_name']`.str.upper()`         | makes the string in each row uppercase                                                |\n",
       "| df['column_name']`.str.title()`         | makes the string in each row titlecase                                                |\n",
       "| df['column_name']`.str.replace('old string', 'new string')`      | replaces `old string` with `new string` for each row |\n",
       "| df['column_name']`.str.contains('some string')`      | tests whether string in each row contains \"some string\" |\n",
       "| df['column_name']`.str.split('delim')`          | returns a list of substrings separated by the given delimiter |\n",
       "| df['column_name']`.str.join(list)`         | opposite of split(), joins the elements in the given list together using the string                                                                   \n",
       "\n",
       "\n",
       "### Renaming, adding, dropping columns\n",
       "![image](../_images/pusheen-bake.png)\n",
       "\n",
       "| Pandas operation | Explanation |\n",
       "| :--- |:--- |\n",
       "|df`.rename(columns={'old_name_of_column': 'new_name_of_column'})` | rename a column (or columns)|\n",
       "|df`.add(columns='name_of_column')`| add a column |\n",
       "|df`.drop(columns='name_of_column')`| drop a column |\n",
       "\n",
       "### Working with missing data\n",
       "![image](../_images/pusheen-detective.jpg)\n",
       "\n",
       "| Pandas operation | Explanation |\n",
       "| :--- | :--- |\n",
       "| df['column_name']`.isna()` |returns a True/False pairs for each row in a dataframe that is blank|\n",
       "| df['column_name']`.notna()` |returns a True/False pairs for each row in a dataframe that is **NOT** blank|\n",
       "| df['column_name']`.fillna()` | will allow you to fill in blank values with a new value |\n",
       "\n",
       "### Sorting, calculating, and `groupby()`\n",
       "![image](../_images/pusheen-typing.png)\n",
       "\n",
       "Note: some of these operations will only be able to run on certain data types (like integers and floats), while others, like `.count()` can help you generate quantitative data about a column of qualitative values (like the number of times a value appears).\n",
       "\n",
       "| Pandas operation | Explanation |\n",
       "| :--- | :--- |\n",
       "|df['column_name']`.count()`| gives you the number of observations, ie the number of rows with non-blank values|\n",
       "|df['column_name']`.value_counts()` | aggregates the data in a column and counts (cumulatively) each unique value |\n",
       "|df['column_name']`.sum()` | gives you the sum of values|\n",
       "|df['column_name']`.mean()` | gives you the mean of values in the column\n",
       "|df['column_name']`.median()`| median of values|\n",
       "|df['column_name']`.min()` | gives the minimum value in the column |\n",
       "|df['column_name']`.max()` |gives the maximum value in the column|\n",
       "|df['column_name']`.mode()`| gives the mode of the column |\n",
       "|df['column_name'].`std()`| gives the \"unbiased standard deviation\" - a statistical term for the estimated dispersion of values| \n",
       "|df`.describe(include='all')` | calculates the summary statistics for all columns of the dataframe|\n",
       "|df`.groupby('column_name')` | allows us to group data and perform calculations on the groups.|\n",
       "\n",
       "> Note! Pay attention to the difference in syntax between `.describe()`, `.groupby()` and other commands.\n",
       "\n"
      ],
      "text/plain": [
       "<IPython.core.display.Markdown object>"
      ]
     },
     "metadata": {},
     "output_type": "display_data"
    }
   ],
   "source": [
    "from IPython.display import Markdown, display\n",
    "\n",
    "display(Markdown(\"python-pandas-cheat-sheet.md\"))"
   ]
  },
  {
   "cell_type": "markdown",
   "metadata": {},
   "source": [
    "____"
   ]
  },
  {
   "cell_type": "markdown",
   "metadata": {},
   "source": [
    "## Using Pandas to analyze data\n",
    "\n",
    "### Counting values"
   ]
  },
  {
   "cell_type": "markdown",
   "metadata": {},
   "source": [
    "Some of these commands we learned last week,when we used `.value_counts()` to look at the number of each value in the \"profession_recorded\" column and used the slice method (`[:10]`) to look at just the top 10:"
   ]
  },
  {
   "cell_type": "code",
   "execution_count": 83,
   "metadata": {},
   "outputs": [
    {
     "data": {
      "text/plain": [
       "Publication_Location\n",
       "New York, NY        22\n",
       "Philadelphia, PA     9\n",
       "London, UK           7\n",
       "Boston, MA           6\n",
       "Richmond, VA         6\n",
       "Bloomington, IL      2\n",
       "Charleston, SC       2\n",
       "New Orleans, LA      2\n",
       "Pittsburgh, PA       2\n",
       "Baltimore, MD        2\n",
       "Name: count, dtype: int64"
      ]
     },
     "execution_count": 83,
     "metadata": {},
     "output_type": "execute_result"
    }
   ],
   "source": [
    "raven_reprintings_df['Publication_Location'].value_counts()[:10]"
   ]
  },
  {
   "cell_type": "markdown",
   "metadata": {},
   "source": [
    "### Counting missing values\n",
    "\n",
    "The `.count()` method can also be applied to the DataFrame as a whole to count. Because `.count()` only counts a row with recorded data, we can combine it with the the `len()` function to get the percentage of each field with recorded data.\n"
   ]
  },
  {
   "cell_type": "code",
   "execution_count": 86,
   "metadata": {},
   "outputs": [
    {
     "data": {
      "text/plain": [
       "Work_ID                   100.0000\n",
       "Date                      100.0000\n",
       "Date_Uncertainty_Level    100.0000\n",
       "Publication_Title         100.0000\n",
       "Notes                      73.4375\n",
       "Source                    100.0000\n",
       "Type                      100.0000\n",
       "Publication_Location      100.0000\n",
       "Links                      25.0000\n",
       "lat                       100.0000\n",
       "lon                       100.0000\n",
       "Coordinates               100.0000\n",
       "Year                      100.0000\n",
       "dtype: float64"
      ]
     },
     "execution_count": 86,
     "metadata": {},
     "output_type": "execute_result"
    }
   ],
   "source": [
    "# To calculate the percentage of recorded data in each column of our dataframe\n",
    "print(\"Percentage of recorded data in each column:\")\n",
    "raven_reprintings_df.count() / len(raven_reprintings_df) * 100"
   ]
  },
  {
   "cell_type": "markdown",
   "metadata": {},
   "source": [
    "### Filtering and sorting values\n",
    "\n",
    "We can combine some of these operations we've learned.\n",
    "\n",
    "What if we wanted to look at all entries with a particular value? We can filter our dataframe for particular values in particular columns.\n",
    "\n",
    "We type the name of the DataFrame `raven_reprintings_df` followed by square brackets `[]` and then, instead of inserting a column name in our brackets, we insert a True/False condition. For example, to select only rows where the publication type is \"Magazine” we insert the condition `raven_reprintings_df['Type'] == 'Magazine'`"
   ]
  },
  {
   "cell_type": "code",
   "execution_count": 89,
   "metadata": {},
   "outputs": [
    {
     "data": {
      "text/html": [
       "<div>\n",
       "<style scoped>\n",
       "    .dataframe tbody tr th:only-of-type {\n",
       "        vertical-align: middle;\n",
       "    }\n",
       "\n",
       "    .dataframe tbody tr th {\n",
       "        vertical-align: top;\n",
       "    }\n",
       "\n",
       "    .dataframe thead th {\n",
       "        text-align: right;\n",
       "    }\n",
       "</style>\n",
       "<table border=\"1\" class=\"dataframe\">\n",
       "  <thead>\n",
       "    <tr style=\"text-align: right;\">\n",
       "      <th></th>\n",
       "      <th>Work_ID</th>\n",
       "      <th>Date</th>\n",
       "      <th>Date_Uncertainty_Level</th>\n",
       "      <th>Publication_Title</th>\n",
       "      <th>Notes</th>\n",
       "      <th>Source</th>\n",
       "      <th>Type</th>\n",
       "      <th>Publication_Location</th>\n",
       "      <th>Links</th>\n",
       "      <th>lat</th>\n",
       "      <th>lon</th>\n",
       "      <th>Coordinates</th>\n",
       "      <th>Year</th>\n",
       "    </tr>\n",
       "  </thead>\n",
       "  <tbody>\n",
       "    <tr>\n",
       "      <th>1</th>\n",
       "      <td>The Raven</td>\n",
       "      <td>1845-02-01</td>\n",
       "      <td>exact date</td>\n",
       "      <td>American Review</td>\n",
       "      <td>The American Review was printed under the titl...</td>\n",
       "      <td>https://www.eapoe.org/works/info/pp073.htm</td>\n",
       "      <td>Magazine</td>\n",
       "      <td>New York, NY</td>\n",
       "      <td>NaN</td>\n",
       "      <td>40.712728</td>\n",
       "      <td>-74.006015</td>\n",
       "      <td>40.7127281, -74.0060152</td>\n",
       "      <td>1845</td>\n",
       "    </tr>\n",
       "    <tr>\n",
       "      <th>30</th>\n",
       "      <td>The Raven</td>\n",
       "      <td>1845-06-14</td>\n",
       "      <td>exact date</td>\n",
       "      <td>Critic</td>\n",
       "      <td>This is essentially a reprint of Text-08Â  (M...</td>\n",
       "      <td>https://www.eapoe.org/works/info/pp073.htm</td>\n",
       "      <td>Magazine</td>\n",
       "      <td>London, UK</td>\n",
       "      <td>NaN</td>\n",
       "      <td>51.507446</td>\n",
       "      <td>-0.127765</td>\n",
       "      <td>51.5074456, -0.1277653</td>\n",
       "      <td>1845</td>\n",
       "    </tr>\n",
       "    <tr>\n",
       "      <th>37</th>\n",
       "      <td>The Raven</td>\n",
       "      <td>1846-02-28</td>\n",
       "      <td>exact date</td>\n",
       "      <td>The Athenaeum</td>\n",
       "      <td>NaN</td>\n",
       "      <td>https://www.jstor.org/stable/10.2307/48599389</td>\n",
       "      <td>Magazine</td>\n",
       "      <td>London, UK</td>\n",
       "      <td>https://www.jstor.org/stable/48599389</td>\n",
       "      <td>51.507446</td>\n",
       "      <td>-0.127765</td>\n",
       "      <td>51.5074456, -0.1277653</td>\n",
       "      <td>1846</td>\n",
       "    </tr>\n",
       "    <tr>\n",
       "      <th>39</th>\n",
       "      <td>The Raven</td>\n",
       "      <td>1846-04-01</td>\n",
       "      <td>approximate to the month</td>\n",
       "      <td>Graham's Magazine</td>\n",
       "      <td>Poe's essay \"The Philosophy of Composition\" vo...</td>\n",
       "      <td>https://www.eapoe.org/works/info/pp073.htm</td>\n",
       "      <td>Magazine</td>\n",
       "      <td>Philadelphia, PA</td>\n",
       "      <td>NaN</td>\n",
       "      <td>39.952724</td>\n",
       "      <td>-75.163526</td>\n",
       "      <td>39.9527237, -75.1635262</td>\n",
       "      <td>1846</td>\n",
       "    </tr>\n",
       "    <tr>\n",
       "      <th>40</th>\n",
       "      <td>The Raven</td>\n",
       "      <td>1846-05-01</td>\n",
       "      <td>exact date</td>\n",
       "      <td>World of Fashion: Monthly Magazine of the Cou...</td>\n",
       "      <td>(London) (This reprint was first noted by Doug...</td>\n",
       "      <td>https://www.eapoe.org/works/info/pp073.htm</td>\n",
       "      <td>Magazine</td>\n",
       "      <td>London, UK</td>\n",
       "      <td>NaN</td>\n",
       "      <td>51.507446</td>\n",
       "      <td>-0.127765</td>\n",
       "      <td>51.5074456, -0.1277653</td>\n",
       "      <td>1846</td>\n",
       "    </tr>\n",
       "    <tr>\n",
       "      <th>45</th>\n",
       "      <td>The Raven</td>\n",
       "      <td>1848-01-01</td>\n",
       "      <td>approximate to the month</td>\n",
       "      <td>Southern Literary Messenger</td>\n",
       "      <td>(numerous lines quoted in an article by P. P. ...</td>\n",
       "      <td>https://www.eapoe.org/works/info/pp073.htm</td>\n",
       "      <td>Magazine</td>\n",
       "      <td>Richmond, VA</td>\n",
       "      <td>NaN</td>\n",
       "      <td>37.538509</td>\n",
       "      <td>-77.434280</td>\n",
       "      <td>37.5385087, -77.43428</td>\n",
       "      <td>1848</td>\n",
       "    </tr>\n",
       "  </tbody>\n",
       "</table>\n",
       "</div>"
      ],
      "text/plain": [
       "      Work_ID       Date    Date_Uncertainty_Level  \\\n",
       "1   The Raven 1845-02-01                exact date   \n",
       "30  The Raven 1845-06-14                exact date   \n",
       "37  The Raven 1846-02-28                exact date   \n",
       "39  The Raven 1846-04-01  approximate to the month   \n",
       "40  The Raven 1846-05-01                exact date   \n",
       "45  The Raven 1848-01-01  approximate to the month   \n",
       "\n",
       "                                    Publication_Title  \\\n",
       "1                                    American Review    \n",
       "30                                           Critic     \n",
       "37                                      The Athenaeum   \n",
       "39                                  Graham's Magazine   \n",
       "40   World of Fashion: Monthly Magazine of the Cou...   \n",
       "45                       Southern Literary Messenger    \n",
       "\n",
       "                                                Notes  \\\n",
       "1   The American Review was printed under the titl...   \n",
       "30   This is essentially a reprint of Text-08Â  (M...   \n",
       "37                                                NaN   \n",
       "39  Poe's essay \"The Philosophy of Composition\" vo...   \n",
       "40  (London) (This reprint was first noted by Doug...   \n",
       "45  (numerous lines quoted in an article by P. P. ...   \n",
       "\n",
       "                                           Source      Type  \\\n",
       "1      https://www.eapoe.org/works/info/pp073.htm  Magazine   \n",
       "30     https://www.eapoe.org/works/info/pp073.htm  Magazine   \n",
       "37  https://www.jstor.org/stable/10.2307/48599389  Magazine   \n",
       "39     https://www.eapoe.org/works/info/pp073.htm  Magazine   \n",
       "40     https://www.eapoe.org/works/info/pp073.htm  Magazine   \n",
       "45     https://www.eapoe.org/works/info/pp073.htm  Magazine   \n",
       "\n",
       "   Publication_Location                                  Links        lat  \\\n",
       "1          New York, NY                                    NaN  40.712728   \n",
       "30           London, UK                                    NaN  51.507446   \n",
       "37           London, UK  https://www.jstor.org/stable/48599389  51.507446   \n",
       "39     Philadelphia, PA                                    NaN  39.952724   \n",
       "40           London, UK                                    NaN  51.507446   \n",
       "45         Richmond, VA                                    NaN  37.538509   \n",
       "\n",
       "          lon              Coordinates  Year  \n",
       "1  -74.006015  40.7127281, -74.0060152  1845  \n",
       "30  -0.127765   51.5074456, -0.1277653  1845  \n",
       "37  -0.127765   51.5074456, -0.1277653  1846  \n",
       "39 -75.163526  39.9527237, -75.1635262  1846  \n",
       "40  -0.127765   51.5074456, -0.1277653  1846  \n",
       "45 -77.434280    37.5385087, -77.43428  1848  "
      ]
     },
     "execution_count": 89,
     "metadata": {},
     "output_type": "execute_result"
    }
   ],
   "source": [
    "raven_reprintings_df[raven_reprintings_df['Type'] == 'Magazine']"
   ]
  },
  {
   "cell_type": "markdown",
   "metadata": {},
   "source": [
    "We can create a variable with the name of our filter. For instance, if we wanted to find the publication locations of reprintings in  books, we could first create a filter for \"Book\", assign it to a variable, and then look at the values in the the \"Publication_Locations\" in our new subset of data:"
   ]
  },
  {
   "cell_type": "code",
   "execution_count": 92,
   "metadata": {},
   "outputs": [],
   "source": [
    "# first, create a filter:\n",
    "raven_reprintings_book = raven_reprintings_df[raven_reprintings_df['Type'] == 'Book']"
   ]
  },
  {
   "cell_type": "code",
   "execution_count": 94,
   "metadata": {},
   "outputs": [
    {
     "data": {
      "text/html": [
       "<div>\n",
       "<style scoped>\n",
       "    .dataframe tbody tr th:only-of-type {\n",
       "        vertical-align: middle;\n",
       "    }\n",
       "\n",
       "    .dataframe tbody tr th {\n",
       "        vertical-align: top;\n",
       "    }\n",
       "\n",
       "    .dataframe thead th {\n",
       "        text-align: right;\n",
       "    }\n",
       "</style>\n",
       "<table border=\"1\" class=\"dataframe\">\n",
       "  <thead>\n",
       "    <tr style=\"text-align: right;\">\n",
       "      <th></th>\n",
       "      <th>Work_ID</th>\n",
       "      <th>Date</th>\n",
       "      <th>Date_Uncertainty_Level</th>\n",
       "      <th>Publication_Title</th>\n",
       "      <th>Notes</th>\n",
       "      <th>Source</th>\n",
       "      <th>Type</th>\n",
       "      <th>Publication_Location</th>\n",
       "      <th>Links</th>\n",
       "      <th>lat</th>\n",
       "      <th>lon</th>\n",
       "      <th>Coordinates</th>\n",
       "      <th>Year</th>\n",
       "    </tr>\n",
       "  </thead>\n",
       "  <tbody>\n",
       "    <tr>\n",
       "      <th>27</th>\n",
       "      <td>The Raven</td>\n",
       "      <td>1845-04-19</td>\n",
       "      <td>exact date</td>\n",
       "      <td>A Plain System of Elocution, by G. Vandenhoff</td>\n",
       "      <td>Â  (second edition, New York) (Although this w...</td>\n",
       "      <td>https://www.eapoe.org/works/info/pp073.htm</td>\n",
       "      <td>Book</td>\n",
       "      <td>New York, NY</td>\n",
       "      <td>NaN</td>\n",
       "      <td>40.712728</td>\n",
       "      <td>-74.006015</td>\n",
       "      <td>40.7127281, -74.0060152</td>\n",
       "      <td>1845</td>\n",
       "    </tr>\n",
       "    <tr>\n",
       "      <th>35</th>\n",
       "      <td>The Raven</td>\n",
       "      <td>1845-11-19</td>\n",
       "      <td>approximate to the day</td>\n",
       "      <td>\\nThe Raven and Other Poems</td>\n",
       "      <td>New York: Wiley and Putnam, 161 Broadway. The ...</td>\n",
       "      <td>https://www.eapoe.org/works/editions/raop.htm</td>\n",
       "      <td>Book</td>\n",
       "      <td>New York, NY</td>\n",
       "      <td>NaN</td>\n",
       "      <td>40.712728</td>\n",
       "      <td>-74.006015</td>\n",
       "      <td>40.7127281, -74.0060152</td>\n",
       "      <td>1845</td>\n",
       "    </tr>\n",
       "    <tr>\n",
       "      <th>44</th>\n",
       "      <td>The Raven</td>\n",
       "      <td>1847-05-29</td>\n",
       "      <td>exact date</td>\n",
       "      <td>Poets and Poetry of America (8th edition)</td>\n",
       "      <td>Eight editionPhiladelphia: Carey &amp; Hart</td>\n",
       "      <td>https://www.eapoe.org/works/info/pp073.htm</td>\n",
       "      <td>Book</td>\n",
       "      <td>Philadelphia, PA</td>\n",
       "      <td>NaN</td>\n",
       "      <td>39.952724</td>\n",
       "      <td>-75.163526</td>\n",
       "      <td>39.9527237, -75.1635262</td>\n",
       "      <td>1847</td>\n",
       "    </tr>\n",
       "    <tr>\n",
       "      <th>80</th>\n",
       "      <td>The Raven</td>\n",
       "      <td>1850-01-01</td>\n",
       "      <td>approximate to the year</td>\n",
       "      <td>WORKS</td>\n",
       "      <td>Griswold prints the poem from RAOP, with most...</td>\n",
       "      <td>https://www.eapoe.org/works/info/pp073.htm</td>\n",
       "      <td>Book</td>\n",
       "      <td>New York, NY</td>\n",
       "      <td>NaN</td>\n",
       "      <td>40.712728</td>\n",
       "      <td>-74.006015</td>\n",
       "      <td>40.7127281, -74.0060152</td>\n",
       "      <td>1850</td>\n",
       "    </tr>\n",
       "    <tr>\n",
       "      <th>81</th>\n",
       "      <td>The Raven</td>\n",
       "      <td>1850-01-01</td>\n",
       "      <td>approximate to the year</td>\n",
       "      <td>The Living Writers of America, by  Thomas Powell</td>\n",
       "      <td>, New York: Stringer and Townsend, 1850, pp. 1...</td>\n",
       "      <td>https://www.eapoe.org/works/info/pp073.htm</td>\n",
       "      <td>Book</td>\n",
       "      <td>New York, NY</td>\n",
       "      <td>NaN</td>\n",
       "      <td>40.712728</td>\n",
       "      <td>-74.006015</td>\n",
       "      <td>40.7127281, -74.0060152</td>\n",
       "      <td>1850</td>\n",
       "    </tr>\n",
       "    <tr>\n",
       "      <th>85</th>\n",
       "      <td>The Raven</td>\n",
       "      <td>1851-01-01</td>\n",
       "      <td>approximate to the year</td>\n",
       "      <td>Parker's Fourth Reader</td>\n",
       "      <td>(The poem is lesson CLXXIV)</td>\n",
       "      <td>https://www.eapoe.org/works/info/pp073.htm</td>\n",
       "      <td>Book</td>\n",
       "      <td>New York, NY</td>\n",
       "      <td>NaN</td>\n",
       "      <td>40.712728</td>\n",
       "      <td>-74.006015</td>\n",
       "      <td>40.7127281, -74.0060152</td>\n",
       "      <td>1851</td>\n",
       "    </tr>\n",
       "    <tr>\n",
       "      <th>87</th>\n",
       "      <td>The Raven</td>\n",
       "      <td>1852-01-01</td>\n",
       "      <td>approximate to the year</td>\n",
       "      <td>The String of Diamonds, Gathered from Many Mi...</td>\n",
       "      <td>(copyright is 1851. It also includes â\"The Be...</td>\n",
       "      <td>https://www.eapoe.org/works/info/pp073.htm</td>\n",
       "      <td>Book</td>\n",
       "      <td>Hartford, CT</td>\n",
       "      <td>NaN</td>\n",
       "      <td>41.764582</td>\n",
       "      <td>-72.690855</td>\n",
       "      <td>41.764582, -72.6908547</td>\n",
       "      <td>1852</td>\n",
       "    </tr>\n",
       "    <tr>\n",
       "      <th>88</th>\n",
       "      <td>The Raven</td>\n",
       "      <td>1852-01-01</td>\n",
       "      <td>approximate to the year</td>\n",
       "      <td>Tales and Sketches: to which is added The Rav...</td>\n",
       "      <td>, London, George Routledge &amp; Co., pp. 265-258</td>\n",
       "      <td>https://www.eapoe.org/works/info/pp073.htm</td>\n",
       "      <td>Book</td>\n",
       "      <td>London, UK</td>\n",
       "      <td>NaN</td>\n",
       "      <td>51.507446</td>\n",
       "      <td>-0.127765</td>\n",
       "      <td>51.5074456, -0.1277653</td>\n",
       "      <td>1852</td>\n",
       "    </tr>\n",
       "    <tr>\n",
       "      <th>89</th>\n",
       "      <td>The Raven</td>\n",
       "      <td>1852-01-01</td>\n",
       "      <td>approximate to the year</td>\n",
       "      <td>Tales of Mystery and Imagination and Humour; ...</td>\n",
       "      <td>London: Henry Vizetelly (An undated edition ap...</td>\n",
       "      <td>https://www.eapoe.org/works/info/pp073.htm</td>\n",
       "      <td>Book</td>\n",
       "      <td>London, UK</td>\n",
       "      <td>NaN</td>\n",
       "      <td>51.507446</td>\n",
       "      <td>-0.127765</td>\n",
       "      <td>51.5074456, -0.1277653</td>\n",
       "      <td>1852</td>\n",
       "    </tr>\n",
       "    <tr>\n",
       "      <th>93</th>\n",
       "      <td>The Raven</td>\n",
       "      <td>1856-01-01</td>\n",
       "      <td>approximate to the year</td>\n",
       "      <td>Cyclopedia of American Literature</td>\n",
       "      <td>New York: Charles Scribner</td>\n",
       "      <td>https://www.eapoe.org/works/info/pp073.htm</td>\n",
       "      <td>Book</td>\n",
       "      <td>New York, NY</td>\n",
       "      <td>NaN</td>\n",
       "      <td>40.712728</td>\n",
       "      <td>-74.006015</td>\n",
       "      <td>40.7127281, -74.0060152</td>\n",
       "      <td>1856</td>\n",
       "    </tr>\n",
       "    <tr>\n",
       "      <th>97</th>\n",
       "      <td>The Raven</td>\n",
       "      <td>1858-01-01</td>\n",
       "      <td>approximate to the year</td>\n",
       "      <td>Achievements of Americans</td>\n",
       "      <td>Cincinnati: Henry Howe (along with â\"Annabel L...</td>\n",
       "      <td>https://www.eapoe.org/works/info/pp073.htm</td>\n",
       "      <td>Book</td>\n",
       "      <td>Cincinnati, OH</td>\n",
       "      <td>NaN</td>\n",
       "      <td>39.101454</td>\n",
       "      <td>-84.512460</td>\n",
       "      <td>39.1014537, -84.5124602</td>\n",
       "      <td>1858</td>\n",
       "    </tr>\n",
       "    <tr>\n",
       "      <th>98</th>\n",
       "      <td>The Raven</td>\n",
       "      <td>1858-01-01</td>\n",
       "      <td>approximate to the year</td>\n",
       "      <td>Poets of the Nineteenth Century</td>\n",
       "      <td>(an anthology edited by Poe's friend Evert A. ...</td>\n",
       "      <td>https://www.eapoe.org/works/info/pp073.htm</td>\n",
       "      <td>Book</td>\n",
       "      <td>New York, NY</td>\n",
       "      <td>NaN</td>\n",
       "      <td>40.712728</td>\n",
       "      <td>-74.006015</td>\n",
       "      <td>40.7127281, -74.0060152</td>\n",
       "      <td>1858</td>\n",
       "    </tr>\n",
       "    <tr>\n",
       "      <th>107</th>\n",
       "      <td>The Raven</td>\n",
       "      <td>1865-01-01</td>\n",
       "      <td>approximate to the year</td>\n",
       "      <td>Golden Leaves from the American Poets, collec...</td>\n",
       "      <td>, New York: Bunce and Huntington (This a commo...</td>\n",
       "      <td>https://www.eapoe.org/works/info/pp073.htm</td>\n",
       "      <td>Book</td>\n",
       "      <td>New York, NY</td>\n",
       "      <td>NaN</td>\n",
       "      <td>40.712728</td>\n",
       "      <td>-74.006015</td>\n",
       "      <td>40.7127281, -74.0060152</td>\n",
       "      <td>1865</td>\n",
       "    </tr>\n",
       "    <tr>\n",
       "      <th>117</th>\n",
       "      <td>The Raven</td>\n",
       "      <td>1875-01-01</td>\n",
       "      <td>approximate to the year</td>\n",
       "      <td>The Works of Edgar Allan Poe, vol 3: Poems an...</td>\n",
       "      <td>Edinburgh: Adam and Charles Black (3:1-5)Â  (I...</td>\n",
       "      <td>https://www.eapoe.org/works/info/pp073.htm</td>\n",
       "      <td>Book</td>\n",
       "      <td>Edinburgh, Scotland</td>\n",
       "      <td>https://www.eapoe.org/works/ingram/jhi74302.htm</td>\n",
       "      <td>55.953346</td>\n",
       "      <td>-3.188375</td>\n",
       "      <td>55.9533456, -3.1883749</td>\n",
       "      <td>1875</td>\n",
       "    </tr>\n",
       "    <tr>\n",
       "      <th>118</th>\n",
       "      <td>The Raven</td>\n",
       "      <td>1877-01-01</td>\n",
       "      <td>approximate to the year</td>\n",
       "      <td>Biographical Sketches of Distinguished Maryla...</td>\n",
       "      <td>Baltimore: Kelly, Piet &amp; Company (pp. 39-42) (...</td>\n",
       "      <td>https://www.eapoe.org/works/info/pp073.htm</td>\n",
       "      <td>Book</td>\n",
       "      <td>Baltimore, MD</td>\n",
       "      <td>NaN</td>\n",
       "      <td>39.290882</td>\n",
       "      <td>-76.610759</td>\n",
       "      <td>39.2908816, -76.610759</td>\n",
       "      <td>1877</td>\n",
       "    </tr>\n",
       "    <tr>\n",
       "      <th>122</th>\n",
       "      <td>The Raven</td>\n",
       "      <td>1884-01-01</td>\n",
       "      <td>approximate to the year</td>\n",
       "      <td>Readings from American Authors, Humorous and ...</td>\n",
       "      <td>Dublin: Carson Brothers, pp. 95-98 (The miscel...</td>\n",
       "      <td>https://www.eapoe.org/works/info/pp073.htm</td>\n",
       "      <td>Book</td>\n",
       "      <td>Dublin, Ireland</td>\n",
       "      <td>NaN</td>\n",
       "      <td>53.349379</td>\n",
       "      <td>-6.260559</td>\n",
       "      <td>53.3493795, -6.2605593</td>\n",
       "      <td>1884</td>\n",
       "    </tr>\n",
       "    <tr>\n",
       "      <th>123</th>\n",
       "      <td>The Raven</td>\n",
       "      <td>1884-01-01</td>\n",
       "      <td>approximate to the year</td>\n",
       "      <td>The Raven</td>\n",
       "      <td>, illustrated by W. L. Taylor. New York: E. P....</td>\n",
       "      <td>https://exhibits.library.jhu.edu/exhibits/show...</td>\n",
       "      <td>Book</td>\n",
       "      <td>New York, NY</td>\n",
       "      <td>NaN</td>\n",
       "      <td>40.712728</td>\n",
       "      <td>-74.006015</td>\n",
       "      <td>40.7127281, -74.0060152</td>\n",
       "      <td>1884</td>\n",
       "    </tr>\n",
       "    <tr>\n",
       "      <th>124</th>\n",
       "      <td>The Raven</td>\n",
       "      <td>1884-01-01</td>\n",
       "      <td>approximate to the year</td>\n",
       "      <td>The Raven</td>\n",
       "      <td>llustrated by Gustave Dore. New York: Harper &amp;...</td>\n",
       "      <td>https://exhibits.library.jhu.edu/exhibits/show...</td>\n",
       "      <td>Book</td>\n",
       "      <td>New York, NY</td>\n",
       "      <td>NaN</td>\n",
       "      <td>40.712728</td>\n",
       "      <td>-74.006015</td>\n",
       "      <td>40.7127281, -74.0060152</td>\n",
       "      <td>1884</td>\n",
       "    </tr>\n",
       "    <tr>\n",
       "      <th>126</th>\n",
       "      <td>The Raven</td>\n",
       "      <td>1895-01-01</td>\n",
       "      <td>approximate to the year</td>\n",
       "      <td>The Works of Edgar Allan Poe, vol. 10: Poems</td>\n",
       "      <td>, ed. E. C. Stedman and G. E. Woodberry (Chica...</td>\n",
       "      <td>https://www.eapoe.org/works/info/pp073.htm</td>\n",
       "      <td>Book</td>\n",
       "      <td>Chicago, IL</td>\n",
       "      <td>NaN</td>\n",
       "      <td>41.881832</td>\n",
       "      <td>-87.623177</td>\n",
       "      <td>\\t41.881832, -87.623177</td>\n",
       "      <td>1895</td>\n",
       "    </tr>\n",
       "    <tr>\n",
       "      <th>127</th>\n",
       "      <td>The Raven</td>\n",
       "      <td>1897-01-01</td>\n",
       "      <td>approximate to the year</td>\n",
       "      <td>The Raven, The Fall of the House of Usher and ...</td>\n",
       "      <td>ed. William P. Trent (Boston: Houghton Miffli...</td>\n",
       "      <td>https://www.eapoe.org/works/info/pp073.htm</td>\n",
       "      <td>Book</td>\n",
       "      <td>Boston, MA</td>\n",
       "      <td>NaN</td>\n",
       "      <td>42.355433</td>\n",
       "      <td>-71.060511</td>\n",
       "      <td>42.3554334, -71.060511</td>\n",
       "      <td>1897</td>\n",
       "    </tr>\n",
       "  </tbody>\n",
       "</table>\n",
       "</div>"
      ],
      "text/plain": [
       "       Work_ID       Date   Date_Uncertainty_Level  \\\n",
       "27   The Raven 1845-04-19               exact date   \n",
       "35   The Raven 1845-11-19   approximate to the day   \n",
       "44   The Raven 1847-05-29               exact date   \n",
       "80   The Raven 1850-01-01  approximate to the year   \n",
       "81   The Raven 1850-01-01  approximate to the year   \n",
       "85   The Raven 1851-01-01  approximate to the year   \n",
       "87   The Raven 1852-01-01  approximate to the year   \n",
       "88   The Raven 1852-01-01  approximate to the year   \n",
       "89   The Raven 1852-01-01  approximate to the year   \n",
       "93   The Raven 1856-01-01  approximate to the year   \n",
       "97   The Raven 1858-01-01  approximate to the year   \n",
       "98   The Raven 1858-01-01  approximate to the year   \n",
       "107  The Raven 1865-01-01  approximate to the year   \n",
       "117  The Raven 1875-01-01  approximate to the year   \n",
       "118  The Raven 1877-01-01  approximate to the year   \n",
       "122  The Raven 1884-01-01  approximate to the year   \n",
       "123  The Raven 1884-01-01  approximate to the year   \n",
       "124  The Raven 1884-01-01  approximate to the year   \n",
       "126  The Raven 1895-01-01  approximate to the year   \n",
       "127  The Raven 1897-01-01  approximate to the year   \n",
       "\n",
       "                                     Publication_Title  \\\n",
       "27       A Plain System of Elocution, by G. Vandenhoff   \n",
       "35                         \\nThe Raven and Other Poems   \n",
       "44           Poets and Poetry of America (8th edition)   \n",
       "80                                             WORKS     \n",
       "81    The Living Writers of America, by  Thomas Powell   \n",
       "85                             Parker's Fourth Reader    \n",
       "87    The String of Diamonds, Gathered from Many Mi...   \n",
       "88    Tales and Sketches: to which is added The Rav...   \n",
       "89    Tales of Mystery and Imagination and Humour; ...   \n",
       "93                   Cyclopedia of American Literature   \n",
       "97                           Achievements of Americans   \n",
       "98                    Poets of the Nineteenth Century    \n",
       "107   Golden Leaves from the American Poets, collec...   \n",
       "117   The Works of Edgar Allan Poe, vol 3: Poems an...   \n",
       "118   Biographical Sketches of Distinguished Maryla...   \n",
       "122   Readings from American Authors, Humorous and ...   \n",
       "123                                          The Raven   \n",
       "124                                          The Raven   \n",
       "126       The Works of Edgar Allan Poe, vol. 10: Poems   \n",
       "127  The Raven, The Fall of the House of Usher and ...   \n",
       "\n",
       "                                                 Notes  \\\n",
       "27   Â  (second edition, New York) (Although this w...   \n",
       "35   New York: Wiley and Putnam, 161 Broadway. The ...   \n",
       "44             Eight editionPhiladelphia: Carey & Hart   \n",
       "80    Griswold prints the poem from RAOP, with most...   \n",
       "81   , New York: Stringer and Townsend, 1850, pp. 1...   \n",
       "85                         (The poem is lesson CLXXIV)   \n",
       "87    (copyright is 1851. It also includes â\"The Be...   \n",
       "88       , London, George Routledge & Co., pp. 265-258   \n",
       "89   London: Henry Vizetelly (An undated edition ap...   \n",
       "93                          New York: Charles Scribner   \n",
       "97   Cincinnati: Henry Howe (along with â\"Annabel L...   \n",
       "98   (an anthology edited by Poe's friend Evert A. ...   \n",
       "107  , New York: Bunce and Huntington (This a commo...   \n",
       "117  Edinburgh: Adam and Charles Black (3:1-5)Â  (I...   \n",
       "118  Baltimore: Kelly, Piet & Company (pp. 39-42) (...   \n",
       "122  Dublin: Carson Brothers, pp. 95-98 (The miscel...   \n",
       "123  , illustrated by W. L. Taylor. New York: E. P....   \n",
       "124  llustrated by Gustave Dore. New York: Harper &...   \n",
       "126  , ed. E. C. Stedman and G. E. Woodberry (Chica...   \n",
       "127   ed. William P. Trent (Boston: Houghton Miffli...   \n",
       "\n",
       "                                                Source  Type  \\\n",
       "27          https://www.eapoe.org/works/info/pp073.htm  Book   \n",
       "35       https://www.eapoe.org/works/editions/raop.htm  Book   \n",
       "44          https://www.eapoe.org/works/info/pp073.htm  Book   \n",
       "80          https://www.eapoe.org/works/info/pp073.htm  Book   \n",
       "81          https://www.eapoe.org/works/info/pp073.htm  Book   \n",
       "85          https://www.eapoe.org/works/info/pp073.htm  Book   \n",
       "87          https://www.eapoe.org/works/info/pp073.htm  Book   \n",
       "88          https://www.eapoe.org/works/info/pp073.htm  Book   \n",
       "89          https://www.eapoe.org/works/info/pp073.htm  Book   \n",
       "93          https://www.eapoe.org/works/info/pp073.htm  Book   \n",
       "97          https://www.eapoe.org/works/info/pp073.htm  Book   \n",
       "98          https://www.eapoe.org/works/info/pp073.htm  Book   \n",
       "107         https://www.eapoe.org/works/info/pp073.htm  Book   \n",
       "117         https://www.eapoe.org/works/info/pp073.htm  Book   \n",
       "118         https://www.eapoe.org/works/info/pp073.htm  Book   \n",
       "122         https://www.eapoe.org/works/info/pp073.htm  Book   \n",
       "123  https://exhibits.library.jhu.edu/exhibits/show...  Book   \n",
       "124  https://exhibits.library.jhu.edu/exhibits/show...  Book   \n",
       "126         https://www.eapoe.org/works/info/pp073.htm  Book   \n",
       "127         https://www.eapoe.org/works/info/pp073.htm  Book   \n",
       "\n",
       "    Publication_Location                                            Links  \\\n",
       "27          New York, NY                                              NaN   \n",
       "35          New York, NY                                              NaN   \n",
       "44      Philadelphia, PA                                              NaN   \n",
       "80          New York, NY                                              NaN   \n",
       "81          New York, NY                                              NaN   \n",
       "85          New York, NY                                              NaN   \n",
       "87          Hartford, CT                                              NaN   \n",
       "88            London, UK                                              NaN   \n",
       "89            London, UK                                              NaN   \n",
       "93          New York, NY                                              NaN   \n",
       "97        Cincinnati, OH                                              NaN   \n",
       "98          New York, NY                                              NaN   \n",
       "107         New York, NY                                              NaN   \n",
       "117  Edinburgh, Scotland  https://www.eapoe.org/works/ingram/jhi74302.htm   \n",
       "118        Baltimore, MD                                              NaN   \n",
       "122      Dublin, Ireland                                              NaN   \n",
       "123         New York, NY                                              NaN   \n",
       "124         New York, NY                                              NaN   \n",
       "126          Chicago, IL                                              NaN   \n",
       "127           Boston, MA                                              NaN   \n",
       "\n",
       "           lat        lon              Coordinates  Year  \n",
       "27   40.712728 -74.006015  40.7127281, -74.0060152  1845  \n",
       "35   40.712728 -74.006015  40.7127281, -74.0060152  1845  \n",
       "44   39.952724 -75.163526  39.9527237, -75.1635262  1847  \n",
       "80   40.712728 -74.006015  40.7127281, -74.0060152  1850  \n",
       "81   40.712728 -74.006015  40.7127281, -74.0060152  1850  \n",
       "85   40.712728 -74.006015  40.7127281, -74.0060152  1851  \n",
       "87   41.764582 -72.690855   41.764582, -72.6908547  1852  \n",
       "88   51.507446  -0.127765   51.5074456, -0.1277653  1852  \n",
       "89   51.507446  -0.127765   51.5074456, -0.1277653  1852  \n",
       "93   40.712728 -74.006015  40.7127281, -74.0060152  1856  \n",
       "97   39.101454 -84.512460  39.1014537, -84.5124602  1858  \n",
       "98   40.712728 -74.006015  40.7127281, -74.0060152  1858  \n",
       "107  40.712728 -74.006015  40.7127281, -74.0060152  1865  \n",
       "117  55.953346  -3.188375   55.9533456, -3.1883749  1875  \n",
       "118  39.290882 -76.610759   39.2908816, -76.610759  1877  \n",
       "122  53.349379  -6.260559   53.3493795, -6.2605593  1884  \n",
       "123  40.712728 -74.006015  40.7127281, -74.0060152  1884  \n",
       "124  40.712728 -74.006015  40.7127281, -74.0060152  1884  \n",
       "126  41.881832 -87.623177  \\t41.881832, -87.623177  1895  \n",
       "127  42.355433 -71.060511   42.3554334, -71.060511  1897  "
      ]
     },
     "execution_count": 94,
     "metadata": {},
     "output_type": "execute_result"
    }
   ],
   "source": [
    "# Then, let's check the contents of our filter\n",
    "raven_reprintings_book"
   ]
  },
  {
   "cell_type": "code",
   "execution_count": 96,
   "metadata": {},
   "outputs": [
    {
     "data": {
      "text/plain": [
       "Publication_Location\n",
       "New York, NY           10\n",
       "London, UK              2\n",
       "Philadelphia, PA        1\n",
       "Hartford, CT            1\n",
       "Cincinnati, OH          1\n",
       "Edinburgh, Scotland     1\n",
       "Baltimore, MD           1\n",
       "Dublin, Ireland         1\n",
       "Chicago, IL             1\n",
       "Boston, MA              1\n",
       "Name: count, dtype: int64"
      ]
     },
     "execution_count": 96,
     "metadata": {},
     "output_type": "execute_result"
    }
   ],
   "source": [
    "# Let's select the \"Publication_Location\" column, and tally our results with  `.value_counts()\n",
    "raven_reprintings_book['Publication_Location'].value_counts()"
   ]
  },
  {
   "cell_type": "markdown",
   "metadata": {},
   "source": [
    "### Write to a CSV\n",
    "\n",
    "What if you want to save your output? There's a function for that! We can use the pands function `.to_csv` to write our output to a CSV file. \n",
    "\n",
    "Below, we’re also specifying that the encoding is utf-8 and that the Index (the bolded left-most column) is not included in the CSV file."
   ]
  },
  {
   "cell_type": "code",
   "execution_count": 99,
   "metadata": {},
   "outputs": [],
   "source": [
    "# Let's output just the reprintings of \"The Raven\" in book form\n",
    "raven_reprintings_book.to_csv(\"raven_reprintings_book.csv\", encoding='utf-8', index=False)"
   ]
  },
  {
   "cell_type": "markdown",
   "metadata": {},
   "source": [
    "### Using `groupby()` to generate statistics about your data"
   ]
  },
  {
   "cell_type": "markdown",
   "metadata": {},
   "source": [
    "`.groupby()` is a useful function for performing more complicated computations on your dataframe. If you've ever used a **\"pivot table\"** in Excel or GoogleSpreadsheets, groupby() does something similar: it allows you to split your data into groups (eg all the results with particular values), apply a funciton, and then recombine them to from a new dataframe (For an example, see [the overview in the `pandas` user guide](https://pandas.pydata.org/pandas-docs/stable/user_guide/groupby.html)). We can group all the  so that you can group all the columns in the dataframe by the values in one column, or we group only a subset  of columns. \n",
    "\n",
    "- `.groupby('column_name')['name_of_selected_columns_to_be_grouped']` : will group only the selected columns\n",
    "\n",
    "Ack! What does this mean? Let's say we wanted to know how many reprintings per year."
   ]
  },
  {
   "cell_type": "markdown",
   "metadata": {},
   "source": [
    "Let's group by year:"
   ]
  },
  {
   "cell_type": "code",
   "execution_count": 103,
   "metadata": {},
   "outputs": [
    {
     "data": {
      "text/plain": [
       "Year\n",
       "1845    37\n",
       "1846     7\n",
       "1847     1\n",
       "1848     4\n",
       "1849    30\n",
       "1850     5\n",
       "1851     2\n",
       "1852     5\n",
       "1854     2\n",
       "1856     1\n",
       "1857     3\n",
       "1858     6\n",
       "1859     1\n",
       "1860     1\n",
       "1864     2\n",
       "1865     2\n",
       "1866     1\n",
       "1867     1\n",
       "1868     1\n",
       "1869     1\n",
       "1870     2\n",
       "1871     1\n",
       "1873     1\n",
       "1875     1\n",
       "1877     1\n",
       "1878     3\n",
       "1884     3\n",
       "1890     1\n",
       "1895     1\n",
       "1897     1\n",
       "Name: Publication_Title, dtype: int64"
      ]
     },
     "execution_count": 103,
     "metadata": {},
     "output_type": "execute_result"
    }
   ],
   "source": [
    "raven_reprintings_df.groupby('Year')['Publication_Title'].count()"
   ]
  },
  {
   "cell_type": "markdown",
   "metadata": {},
   "source": [
    "## Performing string operations on columns"
   ]
  },
  {
   "cell_type": "markdown",
   "metadata": {},
   "source": [
    "### Find and filter by strings in a column\n",
    "What if we wanted to find all \"Notes\" that contain reference to \"Poe\"? Just like filtering for a particular value, we can also filter the values in a particular column by string."
   ]
  },
  {
   "cell_type": "code",
   "execution_count": 148,
   "metadata": {},
   "outputs": [],
   "source": [
    "# First, filter out all the NaN values (the rows where there is no \"Notes\")\n",
    "raven_reprintings_with_notes = raven_reprintings_df[raven_reprintings_df[\"Notes\"].notna()]"
   ]
  },
  {
   "cell_type": "code",
   "execution_count": 152,
   "metadata": {},
   "outputs": [
    {
     "data": {
      "text/plain": [
       "0      [Poe was still employed by the Mirror as a kin...\n",
       "2      Â  (Apparently reprinted from the Evening Mirr...\n",
       "3      This printing is noted as ÒFrom the American R...\n",
       "5                               Poe was editor and owner\n",
       "9       (Alexandria, VA), vol. XLV, no. 34, p. 1, col...\n",
       "11      (Philadelphia) (not in H&C. First cited by Ta...\n",
       "15     Â  (acknowledged as â\"From the American Review...\n",
       "26      (Cadiz, OH), vol. XII, no. 2, p. 1, cols. 3-4...\n",
       "32      (Greenfield, MA), vol. VI, no. 12, front page...\n",
       "36     The subtitle of this journal is ÒA Compendium ...\n",
       "38     (Gettysburg, PA), vol. XVI, no. 52, p. 1, cols...\n",
       "39     Poe's essay \"The Philosophy of Composition\" vo...\n",
       "40     (London) (This reprint was first noted by Doug...\n",
       "45     (numerous lines quoted in an article by P. P. ...\n",
       "48      (This paper was edited by Rufus White Griswol...\n",
       "51      (Printed with the introductory note: â\"We pub...\n",
       "54          (Baltimore, MD) (part of an obituary to Poe)\n",
       "67      (formerly called the Saturday Courier)   (Mab...\n",
       "70     Lincolnton, NC), vol. V, no. 34, p. 1, col. 1 ...\n",
       "72     (New Orleans, LA), vol. II, no. 223, p. 1, col...\n",
       "80      Griswold prints the poem from RAOP, with most...\n",
       "82     (p. 4) (this item is noted by George Monteiro,...\n",
       "83     vol. XII, whole no. 617 , p. 2, col. 4 (acknow...\n",
       "86     vol. IV, no. 27, p. 1, cols. 1-2 (acknowledged...\n",
       "94     (p. 4) (this item is noted by George Monteiro,...\n",
       "98     (an anthology edited by Poe's friend Evert A. ...\n",
       "99     (p. 4) (this item is noted by George Monteiro,...\n",
       "107    , New York: Bunce and Huntington (This a commo...\n",
       "108    , on heavy card stock (printed for the Philade...\n",
       "109    (Charleston, SC), vol. I, no. 26, p. 1, cols. ...\n",
       "110    (Waynesburg, PA), vol. X, no. 43, p. 1, cols. ...\n",
       "111    (Chambersburg, PA), vol. 75, Whole no. 3,836, ...\n",
       "114     vol. Vii, no. 5 (This printing features 10 pl...\n",
       "117    Edinburgh: Adam and Charles Black (3:1-5)Â  (I...\n",
       "118    Baltimore: Kelly, Piet & Company (pp. 39-42) (...\n",
       "119    vol. IV, no. 48, p. 1, cols. 3-4 (acknowledged...\n",
       "121    (Hagerstown, MD), vol. LXV, no. 46, p. 1, col....\n",
       "122    Dublin: Carson Brothers, pp. 95-98 (The miscel...\n",
       "Name: Notes, dtype: object"
      ]
     },
     "execution_count": 152,
     "metadata": {},
     "output_type": "execute_result"
    }
   ],
   "source": [
    "raven_reprintings_with_notes[raven_reprintings_with_notes['Notes'].str.contains('Poe')].Notes"
   ]
  },
  {
   "cell_type": "markdown",
   "metadata": {},
   "source": [
    "IF we want to see the full notes, we can change the column width:"
   ]
  },
  {
   "cell_type": "code",
   "execution_count": 156,
   "metadata": {},
   "outputs": [],
   "source": [
    "pd.set_option('display.max_colwidth', None)"
   ]
  },
  {
   "cell_type": "code",
   "execution_count": null,
   "metadata": {},
   "outputs": [],
   "source": [
    "# Rerun our search for \"Poe\" in the \"Notes\" column\n",
    "raven_reprintings_with_notes[raven_reprintings_with_notes['Notes'].str.contains('Poe')].Notes"
   ]
  },
  {
   "cell_type": "code",
   "execution_count": null,
   "metadata": {},
   "outputs": [],
   "source": [
    "# Change back to default\n",
    "pd.set_option('display.max_colwidth', 50)"
   ]
  },
  {
   "cell_type": "markdown",
   "metadata": {},
   "source": [
    "### Count word frequencies on strings in columns\n",
    "Notice that our \"Notes\" column actually contains a lot of text. We can, if we want, analyze it!"
   ]
  },
  {
   "cell_type": "code",
   "execution_count": 126,
   "metadata": {},
   "outputs": [
    {
     "data": {
      "text/plain": [
       "[('the', 140),\n",
       " ('of', 82),\n",
       " ('and', 49),\n",
       " ('in', 40),\n",
       " ('is', 38),\n",
       " ('by', 37),\n",
       " ('p.', 37),\n",
       " ('as', 36),\n",
       " ('a', 32),\n",
       " ('no.', 30),\n",
       " ('from', 28),\n",
       " ('vol.', 28),\n",
       " ('with', 25),\n",
       " ('The', 21),\n",
       " ('for', 21),\n",
       " ('1,', 20),\n",
       " ('was', 19),\n",
       " ('cols.', 17),\n",
       " ('it', 15),\n",
       " ('Poe', 15),\n",
       " ('American', 14),\n",
       " ('but', 14),\n",
       " ('to', 13),\n",
       " ('New', 13),\n",
       " ('this', 12),\n",
       " ('introductory', 12),\n",
       " ('It', 12),\n",
       " ('noted', 11),\n",
       " (',', 11),\n",
       " ('on', 11),\n",
       " ('first', 10),\n",
       " ('one', 10),\n",
       " ('reprinted', 10),\n",
       " ('A.', 10),\n",
       " ('col.', 10),\n",
       " ('(acknowledged', 10),\n",
       " (\"Poe's\", 10),\n",
       " ('poem', 10),\n",
       " ('reprint', 10),\n",
       " ('that', 9),\n",
       " ('an', 9),\n",
       " ('not', 9),\n",
       " ('Edgar', 9),\n",
       " ('E.', 9),\n",
       " ('has', 8),\n",
       " ('Review,', 8),\n",
       " ('been', 7),\n",
       " ('Evening', 7),\n",
       " ('be', 7),\n",
       " ('appears', 7),\n",
       " ('(This', 7),\n",
       " ('notice', 6),\n",
       " ('date', 6),\n",
       " ('PA),', 6),\n",
       " ('â\"The', 6),\n",
       " ('â\"By', 6),\n",
       " ('3-4', 6),\n",
       " ('1-2', 6),\n",
       " ('have', 6),\n",
       " ('York:', 6),\n",
       " ('(The', 6),\n",
       " ('pp.', 6),\n",
       " ('about', 5),\n",
       " ('February', 5),\n",
       " ('Review', 5),\n",
       " ('or', 5),\n",
       " ('page', 5),\n",
       " ('issue', 5),\n",
       " ('including', 5),\n",
       " ('Â', 5),\n",
       " ('his', 5),\n",
       " ('(noted', 5),\n",
       " ('name', 5),\n",
       " ('note', 5),\n",
       " ('(reprinted', 5),\n",
       " ('2,', 5),\n",
       " ('may', 5),\n",
       " ('Literary', 5),\n",
       " ('item', 5),\n",
       " ('poems', 5),\n",
       " ('under', 4),\n",
       " ('printing', 4),\n",
       " ('A', 4),\n",
       " ('number', 4),\n",
       " ('new', 4),\n",
       " ('1845,', 4),\n",
       " ('although', 4),\n",
       " ('would', 4),\n",
       " ('issued', 4),\n",
       " ('issues', 4),\n",
       " ('bound', 4),\n",
       " ('volume,', 4),\n",
       " ('several', 4),\n",
       " ('This', 4),\n",
       " ('3,', 4),\n",
       " ('1845', 4),\n",
       " ('(not', 4),\n",
       " ('H&C.', 4),\n",
       " ('4,', 4),\n",
       " ('Poe,', 4)]"
      ]
     },
     "execution_count": 126,
     "metadata": {},
     "output_type": "execute_result"
    }
   ],
   "source": [
    "# import the Counter library\n",
    "from collections import Counter\n",
    "# Filter out all the NaN values (the rows where there is no \"Notes\")\n",
    "raven_reprintings_with_notes = raven_reprintings_df[raven_reprintings_df[\"Notes\"].notna()]\n",
    "# Tokenize -––separate out––all of the words in the \"Notes\" field and count the 100 most frequent words\n",
    "# Notice how this looks familiar? If we wanted to, we could look back at our word frequency counter from Homework 4 and create\n",
    "# a list of \"stop words\" to ignore.\n",
    "Counter(\" \".join(raven_reprintings_with_notes[\"Notes\"]).split()).most_common(100)"
   ]
  },
  {
   "cell_type": "markdown",
   "metadata": {},
   "source": [
    "## Exercise 1: Finding out more about our dataset \n",
    "\n",
    "In the field below, use what you've learned in the homework to complete the following sections: "
   ]
  },
  {
   "cell_type": "markdown",
   "metadata": {},
   "source": [
    "1. In the cell below, filter the dataframe to only include reprintings published in \"London, UK\"\n",
    "\n",
    "> ### !!! REMEMBER TO RUN THE CELLS ABOVE so you load in the CSV file and define variables!"
   ]
  },
  {
   "cell_type": "code",
   "execution_count": 278,
   "metadata": {},
   "outputs": [],
   "source": [
    "### Your code here"
   ]
  },
  {
   "cell_type": "markdown",
   "metadata": {},
   "source": [
    "2. In the cell below, write the code that you would need to calculate the percentage of entries that contain no recorded data in the \"Links\" column? What is that percentage?"
   ]
  },
  {
   "cell_type": "code",
   "execution_count": 281,
   "metadata": {},
   "outputs": [],
   "source": [
    "### Your code here"
   ]
  },
  {
   "cell_type": "markdown",
   "metadata": {},
   "source": [
    "## 2: Make a simple data visualization "
   ]
  },
  {
   "cell_type": "markdown",
   "metadata": {},
   "source": [
    "We can make some simple visualizations of what we've found!\n",
    "Run the cell below:"
   ]
  },
  {
   "cell_type": "code",
   "execution_count": 107,
   "metadata": {},
   "outputs": [
    {
     "data": {
      "text/plain": [
       "<Axes: title={'center': \"Most Frequent Locations for Reprintings of Poe's 'The Raven'\"}, xlabel='Publication_Location'>"
      ]
     },
     "execution_count": 107,
     "metadata": {},
     "output_type": "execute_result"
    },
    {
     "data": {
      "image/png": "[encoded data removed]",
      "text/plain": [
       "<Figure size 640x480 with 1 Axes>"
      ]
     },
     "metadata": {},
     "output_type": "display_data"
    }
   ],
   "source": [
    "raven_reprintings_df['Publication_Location'].value_counts()[:10].plot(kind='bar', title=\"Most Frequent Locations for Reprintings of Poe's 'The Raven'\") "
   ]
  },
  {
   "cell_type": "markdown",
   "metadata": {},
   "source": [
    "Above, we used the `.plot()` function, and we used the parameter `kind=` to specify a bar chart. If we wanted to make it easier to read, we could flip the orientation to a horizontal chart:"
   ]
  },
  {
   "cell_type": "code",
   "execution_count": 109,
   "metadata": {},
   "outputs": [
    {
     "data": {
      "text/plain": [
       "<Axes: title={'center': \"Most Frequent Locations for Reprintings of Poe's 'The Raven'\"}, ylabel='Publication_Location'>"
      ]
     },
     "execution_count": 109,
     "metadata": {},
     "output_type": "execute_result"
    },
    {
     "data": {
      "image/png": "[encoded data removed]",
      "text/plain": [
       "<Figure size 640x480 with 1 Axes>"
      ]
     },
     "metadata": {},
     "output_type": "display_data"
    }
   ],
   "source": [
    "raven_reprintings_df['Publication_Location'].value_counts()[:10].plot(kind='barh', title=\"Most Frequent Locations for Reprintings of Poe's 'The Raven'\") "
   ]
  },
  {
   "cell_type": "markdown",
   "metadata": {},
   "source": [
    "Or we could make it a pie chart:"
   ]
  },
  {
   "cell_type": "code",
   "execution_count": 113,
   "metadata": {},
   "outputs": [
    {
     "data": {
      "text/plain": [
       "<Axes: title={'center': \"Most Frequent Locations for Reprintings of Poe's 'The Raven'\"}, ylabel='count'>"
      ]
     },
     "execution_count": 113,
     "metadata": {},
     "output_type": "execute_result"
    },
    {
     "data": {
      "image/png": "[encoded data removed]",
      "text/plain": [
       "<Figure size 640x480 with 1 Axes>"
      ]
     },
     "metadata": {},
     "output_type": "display_data"
    }
   ],
   "source": [
    "raven_reprintings_df['Publication_Location'].value_counts()[:10].plot(kind='pie', title=\"Most Frequent Locations for Reprintings of Poe's 'The Raven'\") "
   ]
  },
  {
   "cell_type": "markdown",
   "metadata": {},
   "source": [
    "### Plotting data on a timeline\n",
    "Remember the data we produced with `grouby()`? We can plot that as a timeline using the .plot() funciton. Note that here we don't have to specifiy the datatype because we are working with just counts of particular dates, so Python will default to dates on the X axis."
   ]
  },
  {
   "cell_type": "code",
   "execution_count": 116,
   "metadata": {},
   "outputs": [
    {
     "data": {
      "text/plain": [
       "<Axes: title={'center': \"Reprints of 'The Raven' by Year\"}, xlabel='Year'>"
      ]
     },
     "execution_count": 116,
     "metadata": {},
     "output_type": "execute_result"
    },
    {
     "data": {
      "image/png": "[encoded data removed]",
      "text/plain": [
       "<Figure size 640x480 with 1 Axes>"
      ]
     },
     "metadata": {},
     "output_type": "display_data"
    }
   ],
   "source": [
    "raven_reprintings_df.groupby('Year')['Publication_Title'].count().plot(title=\"Reprints of 'The Raven' by Year\")"
   ]
  },
  {
   "cell_type": "markdown",
   "metadata": {},
   "source": [
    "\n",
    "### What about all those ***blank spots*** that show up as NaN??\n",
    "\n",
    "Plotting functions in Python will ignore blank values. So all of those blank columns are ignored.\n",
    "\n",
    "We can try and make these blank spots a little more descriptive, much like we did for our simpler lists! \n",
    "\n",
    "\n",
    "### `.isna()` , `.notna()`, and `.fillna()`\n",
    "For dataframes, there are ways of sorting through missing data. These operations are called `.isna()` `.notna()` and `.fillna()`, which allow us to check if a value is NaN (or not), and to fill in blank values in a dataframe or in a section of a dataframe (like a column)."
   ]
  },
  {
   "cell_type": "code",
   "execution_count": 119,
   "metadata": {},
   "outputs": [],
   "source": [
    "# Create a new column caled `Links_updated` that fills in all the blank spots in our `Links` column with \n",
    "# \"no link recorded\"\n",
    "raven_reprintings_df['Links_updated'] = raven_reprintings_df['Links'].fillna('no link recorded')"
   ]
  },
  {
   "cell_type": "code",
   "execution_count": 123,
   "metadata": {},
   "outputs": [
    {
     "data": {
      "text/html": [
       "<div>\n",
       "<style scoped>\n",
       "    .dataframe tbody tr th:only-of-type {\n",
       "        vertical-align: middle;\n",
       "    }\n",
       "\n",
       "    .dataframe tbody tr th {\n",
       "        vertical-align: top;\n",
       "    }\n",
       "\n",
       "    .dataframe thead th {\n",
       "        text-align: right;\n",
       "    }\n",
       "</style>\n",
       "<table border=\"1\" class=\"dataframe\">\n",
       "  <thead>\n",
       "    <tr style=\"text-align: right;\">\n",
       "      <th></th>\n",
       "      <th>Work_ID</th>\n",
       "      <th>Date</th>\n",
       "      <th>Date_Uncertainty_Level</th>\n",
       "      <th>Publication_Title</th>\n",
       "      <th>Notes</th>\n",
       "      <th>Source</th>\n",
       "      <th>Type</th>\n",
       "      <th>Publication_Location</th>\n",
       "      <th>Links</th>\n",
       "      <th>lat</th>\n",
       "      <th>lon</th>\n",
       "      <th>Coordinates</th>\n",
       "      <th>Year</th>\n",
       "      <th>Links_updated</th>\n",
       "    </tr>\n",
       "  </thead>\n",
       "  <tbody>\n",
       "    <tr>\n",
       "      <th>0</th>\n",
       "      <td>The Raven</td>\n",
       "      <td>1845-01-29</td>\n",
       "      <td>exact date</td>\n",
       "      <td>Evening Mirror</td>\n",
       "      <td>[Poe was still employed by the Mirror as a kin...</td>\n",
       "      <td>https://www.eapoe.org/works/info/pp073.htm</td>\n",
       "      <td>Newspaper</td>\n",
       "      <td>New York, NY</td>\n",
       "      <td>NaN</td>\n",
       "      <td>40.712728</td>\n",
       "      <td>-74.006015</td>\n",
       "      <td>40.7127281, -74.0060152</td>\n",
       "      <td>1845</td>\n",
       "      <td>no link recorded</td>\n",
       "    </tr>\n",
       "    <tr>\n",
       "      <th>1</th>\n",
       "      <td>The Raven</td>\n",
       "      <td>1845-02-01</td>\n",
       "      <td>exact date</td>\n",
       "      <td>American Review</td>\n",
       "      <td>The American Review was printed under the titl...</td>\n",
       "      <td>https://www.eapoe.org/works/info/pp073.htm</td>\n",
       "      <td>Magazine</td>\n",
       "      <td>New York, NY</td>\n",
       "      <td>NaN</td>\n",
       "      <td>40.712728</td>\n",
       "      <td>-74.006015</td>\n",
       "      <td>40.7127281, -74.0060152</td>\n",
       "      <td>1845</td>\n",
       "      <td>no link recorded</td>\n",
       "    </tr>\n",
       "    <tr>\n",
       "      <th>2</th>\n",
       "      <td>The Raven</td>\n",
       "      <td>1845-02-03</td>\n",
       "      <td>exact date</td>\n",
       "      <td>New York Morning News</td>\n",
       "      <td>Â  (Apparently reprinted from the Evening Mirr...</td>\n",
       "      <td>https://www.eapoe.org/works/info/pp073.htm</td>\n",
       "      <td>Newspaper</td>\n",
       "      <td>New York, NY</td>\n",
       "      <td>NaN</td>\n",
       "      <td>40.712728</td>\n",
       "      <td>-74.006015</td>\n",
       "      <td>40.7127281, -74.0060152</td>\n",
       "      <td>1845</td>\n",
       "      <td>no link recorded</td>\n",
       "    </tr>\n",
       "  </tbody>\n",
       "</table>\n",
       "</div>"
      ],
      "text/plain": [
       "     Work_ID       Date Date_Uncertainty_Level      Publication_Title  \\\n",
       "0  The Raven 1845-01-29             exact date        Evening Mirror    \n",
       "1  The Raven 1845-02-01             exact date       American Review    \n",
       "2  The Raven 1845-02-03             exact date  New York Morning News   \n",
       "\n",
       "                                               Notes  \\\n",
       "0  [Poe was still employed by the Mirror as a kin...   \n",
       "1  The American Review was printed under the titl...   \n",
       "2  Â  (Apparently reprinted from the Evening Mirr...   \n",
       "\n",
       "                                       Source       Type Publication_Location  \\\n",
       "0  https://www.eapoe.org/works/info/pp073.htm  Newspaper         New York, NY   \n",
       "1  https://www.eapoe.org/works/info/pp073.htm   Magazine         New York, NY   \n",
       "2  https://www.eapoe.org/works/info/pp073.htm  Newspaper         New York, NY   \n",
       "\n",
       "  Links        lat        lon              Coordinates  Year     Links_updated  \n",
       "0   NaN  40.712728 -74.006015  40.7127281, -74.0060152  1845  no link recorded  \n",
       "1   NaN  40.712728 -74.006015  40.7127281, -74.0060152  1845  no link recorded  \n",
       "2   NaN  40.712728 -74.006015  40.7127281, -74.0060152  1845  no link recorded  "
      ]
     },
     "execution_count": 123,
     "metadata": {},
     "output_type": "execute_result"
    }
   ],
   "source": [
    "raven_reprintings_df.head(3)"
   ]
  },
  {
   "cell_type": "markdown",
   "metadata": {},
   "source": [
    "## Exercise 2: Working with your own dataset\n",
    "\n",
    "Let's try some of what we've learned on a dataset of your choosing! In pairs, use the space below to load and examine your own dataset.\n",
    "\n",
    "With your group, you might try following:\n",
    "\n",
    "+ Load and display your dataset\n",
    "+ Try to count the values in a particular column\n",
    "+ Look at the descriptive statistics for a particular column\n",
    "+ Create a filter to look at just a subset of your data \n",
    "+ Make a simple visualization\n",
    "\n",
    "\n"
   ]
  },
  {
   "cell_type": "code",
   "execution_count": 159,
   "metadata": {},
   "outputs": [],
   "source": [
    "import pandas as pd"
   ]
  },
  {
   "cell_type": "markdown",
   "metadata": {},
   "source": [
    "### Group 1: The Early Novels Database (1660-1830)\n",
    "This dataset includes a collection of metadata for over 2,000 novels published between 1660 and 1850 created as a part of the [Early Novels Database (END)](https://earlynovels.github.io/). Dataset source: [https://github.com/earlynovels/end-dataset](https://github.com/earlynovels/end-dataset) specifically this [full version from 2018](https://github.com/earlynovels/end-dataset/blob/master/end-dataset-master-11282018/11282018-full.tsv)"
   ]
  },
  {
   "cell_type": "code",
   "execution_count": 50,
   "metadata": {},
   "outputs": [],
   "source": [
    "early_novels_database_df = pd.read_csv('../_datasets/early-novels-database-full.tsv', delimiter='\\t')"
   ]
  },
  {
   "cell_type": "code",
   "execution_count": null,
   "metadata": {},
   "outputs": [],
   "source": [
    "early_novels_database_df"
   ]
  },
  {
   "cell_type": "code",
   "execution_count": null,
   "metadata": {},
   "outputs": [],
   "source": [
    "# Your code here"
   ]
  },
  {
   "cell_type": "markdown",
   "metadata": {},
   "source": [
    "### Group 2: *The New York Times* Hardcover Besteller Dataset\n",
    "This datasets includes [*NYT* Hardcover Fiction Bestsellers](https://data.post45.org/nyt-fiction-bestsellers-data/). Data Source: [https://view.data.post45.org/nytfull](https://view.data.post45.org/nytfull)"
   ]
  },
  {
   "cell_type": "code",
   "execution_count": 41,
   "metadata": {},
   "outputs": [],
   "source": [
    "nyt_hardcover_bestsellers_df = pd.read_csv('../_datasets/nyt_hardcover_fiction_bestsellers_list.tsv', delimiter='\\t')"
   ]
  },
  {
   "cell_type": "code",
   "execution_count": null,
   "metadata": {},
   "outputs": [],
   "source": [
    "nyt_hardcover_bestsellers_df"
   ]
  },
  {
   "cell_type": "code",
   "execution_count": null,
   "metadata": {},
   "outputs": [],
   "source": [
    "# Your code here"
   ]
  },
  {
   "cell_type": "markdown",
   "metadata": {},
   "source": [
    "### Group 3: *Publisher's Weekly* Database of Translations into English, 2008-2024\n",
    "This dataset from *Publisher's Weekly* includes works translated into English. Data source here: [https://www.publishersweekly.com/pw/translation/search/index.html](https://www.publishersweekly.com/pw/translation/search/index.html)\n",
    "TSV file produced by checking all the year boxes (2008-2024) and searching with a blank search box (to retrieve all entries), and then copying the text as a TSV)."
   ]
  },
  {
   "cell_type": "code",
   "execution_count": 44,
   "metadata": {},
   "outputs": [],
   "source": [
    "publishers_weekly_translation_df = pd.read_csv('../_datasets/publishers-weekly-translations-dataset.tsv', delimiter='\\t')"
   ]
  },
  {
   "cell_type": "code",
   "execution_count": null,
   "metadata": {},
   "outputs": [],
   "source": [
    "publishers_weekly_translation_df"
   ]
  },
  {
   "cell_type": "code",
   "execution_count": null,
   "metadata": {},
   "outputs": [],
   "source": [
    "# Your code here"
   ]
  },
  {
   "cell_type": "markdown",
   "metadata": {},
   "source": [
    "### Group 4: The Top 500 Novels Held in OCLC Libraries\n",
    "This dataset consists of the [\"Top 500 “Greatest” Novels (1021-2015)\"](https://www.responsible-datasets-in-context.com/posts/top-500-novels/top-500-novels.html) -- in this case, the 500 novels most widely held in OCLC member libraries across the globe. \n",
    "Data source: [https://raw.githubusercontent.com/melaniewalsh/responsible-datasets-in-context/main/datasets/top-500-novels/library_top_500.csv](https://raw.githubusercontent.com/melaniewalsh/responsible-datasets-in-context/main/datasets/top-500-novels/library_top_500.csv)"
   ]
  },
  {
   "cell_type": "code",
   "execution_count": 56,
   "metadata": {},
   "outputs": [],
   "source": [
    "top_500_novels_in_libraries_df = pd.read_csv('../_datasets/library_top_500_novels.csv')"
   ]
  },
  {
   "cell_type": "code",
   "execution_count": null,
   "metadata": {},
   "outputs": [],
   "source": [
    "top_500_novels_in_libraries_df "
   ]
  },
  {
   "cell_type": "code",
   "execution_count": null,
   "metadata": {},
   "outputs": [],
   "source": [
    "# Your code here"
   ]
  },
  {
   "cell_type": "markdown",
   "metadata": {},
   "source": [
    "### Group 5: Major U.S. Literary Prize Winners and Judges Dataset\n",
    "This dataset consists of a list of all the major [U.S. literary prize winners, judges, and prize money](https://data.post45.org/the-index-of-major-literary-prizes-in-the-us/). Data source: [https://raw.githubusercontent.com/Post45-Data-Collective/data/main/major_literary_prizes/major_literary_prizes-winners_judges.tsv](https://raw.githubusercontent.com/Post45-Data-Collective/data/main/major_literary_prizes/major_literary_prizes-winners_judges.tsv)"
   ]
  },
  {
   "cell_type": "code",
   "execution_count": 59,
   "metadata": {},
   "outputs": [],
   "source": [
    "major_literary_prizes_df = pd.read_csv('../_datasets/Major_Literary_Prize_Winners_and_Judges.csv')"
   ]
  },
  {
   "cell_type": "code",
   "execution_count": null,
   "metadata": {},
   "outputs": [],
   "source": [
    "major_literary_prizes_df"
   ]
  },
  {
   "cell_type": "code",
   "execution_count": null,
   "metadata": {},
   "outputs": [],
   "source": [
    "# Your code here"
   ]
  },
  {
   "cell_type": "markdown",
   "metadata": {},
   "source": [
    "### Group 6: 50 Years of Billboard Year-End Hot 100 Music\n",
    "This dataset includes the [top 100 songs on Billboard's Year-End Hot 100 music list](https://github.com/walkerkq/musiclyrics?tab=readme-ov-file#50-years-of-pop-music-lyrics). Data source: [https://github.com/walkerkq/musiclyrics/blob/master/billboard_lyrics_1964-2015.csv](https://github.com/walkerkq/musiclyrics/blob/master/billboard_lyrics_1964-2015.csv)"
   ]
  },
  {
   "cell_type": "code",
   "execution_count": 48,
   "metadata": {},
   "outputs": [],
   "source": [
    "billboard_100_music_df = pd.read_csv('../_datasets/music/billboard_lyrics_1964-2015.csv', encoding='ISO-8859-1')"
   ]
  },
  {
   "cell_type": "code",
   "execution_count": null,
   "metadata": {},
   "outputs": [],
   "source": [
    "billboard_100_music_df"
   ]
  },
  {
   "cell_type": "code",
   "execution_count": null,
   "metadata": {},
   "outputs": [],
   "source": [
    "# Your code here"
   ]
  },
  {
   "cell_type": "markdown",
   "metadata": {},
   "source": [
    "### Group 7: Shakespeare & Company: borrowing records of an English lending-library in Paris in the 1920s-1940s\n",
    "This dataset consists of the \"events\" ––borrows, subscriptions, renewals, gifts––in the lending library logs of the Parisian [Shakespeare & Company English language library in the 1920s-1940s](https://shakespeareandco.princeton.edu/). For more about the data, see [here](https://shakespeareandco.princeton.edu/about/data/)\n",
    "Data Source: [https://doi.org/10.34770/nz90-ym25](https://doi.org/10.34770/nz90-ym25)"
   ]
  },
  {
   "cell_type": "code",
   "execution_count": 57,
   "metadata": {},
   "outputs": [],
   "source": [
    "Paris_lending_library_records_df = pd.read_csv('../_datasets/Shakespeare-and-Company-Circulation-Dataset/SCoData_events_v1_2020-07.csv')"
   ]
  },
  {
   "cell_type": "code",
   "execution_count": null,
   "metadata": {},
   "outputs": [],
   "source": [
    "Paris_lending_library_records_df"
   ]
  },
  {
   "cell_type": "code",
   "execution_count": null,
   "metadata": {},
   "outputs": [],
   "source": [
    "# Your code here"
   ]
  },
  {
   "cell_type": "markdown",
   "metadata": {},
   "source": [
    "### If you want to try a different dataset..."
   ]
  },
  {
   "cell_type": "code",
   "execution_count": 38,
   "metadata": {},
   "outputs": [],
   "source": [
    "name_of_your_dataframe = pd.read_csv('../_datasets/')"
   ]
  },
  {
   "cell_type": "markdown",
   "metadata": {},
   "source": [
    "1. In the cell below, rename the variable `name_of_your_dataframe`. \n",
    "2. Then, place your cursor at the end of the file path `\"../_datasets/\"` and hit the `tab` button. You should see a list of files––I've uploaded versions of some datasets that you all had the option to work on. \n",
    "3. Choose your dataset. Make sure that you choose a file ending in `.csv` or `.tsv`. (Not all the files in the \"_datasets\" directory are CSV files). IF you select a .tsv file, make sure to specify delimiter='\\t')\n",
    "\n",
    "> ***Note***: Some of you might not see your dataset here, or see a CSV version of your data––this may be because your dataset from you biography is not. If you do want to work with XML data, there are things we can do to create a dataframe from this, but we need to do a little more work. If you're up for a bit of a challenge, read through the https://pypi.org/project/pandas-read-xml/. "
   ]
  },
  {
   "cell_type": "markdown",
   "metadata": {},
   "source": [
    "### Exercise 2a:\n",
    "\n",
    "Once you've loaded your dataset, use one of the methods we've learned to sort or select a subset of your data:"
   ]
  },
  {
   "cell_type": "code",
   "execution_count": null,
   "metadata": {},
   "outputs": [],
   "source": [
    " # Your code here"
   ]
  },
  {
   "cell_type": "markdown",
   "metadata": {},
   "source": [
    "### Exercise 2b:\n",
    "Now, try and make a simiple data visualization using your dataset."
   ]
  },
  {
   "cell_type": "code",
   "execution_count": null,
   "metadata": {},
   "outputs": [],
   "source": [
    "# Your code here "
   ]
  }
 ],
 "metadata": {
  "kernelspec": {
   "display_name": "Python 3 (ipykernel)",
   "language": "python",
   "name": "python3"
  },
  "language_info": {
   "codemirror_mode": {
    "name": "ipython",
    "version": 3
   },
   "file_extension": ".py",
   "mimetype": "text/x-python",
   "name": "python",
   "nbconvert_exporter": "python",
   "pygments_lexer": "ipython3",
   "version": "3.12.4"
  }
 },
 "nbformat": 4,
 "nbformat_minor": 4
}
